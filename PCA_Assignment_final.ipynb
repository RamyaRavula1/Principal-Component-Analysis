{
 "cells": [
  {
   "cell_type": "markdown",
   "metadata": {},
   "source": [
    "Problem Statement:\n",
    "HELP International is an international humanitarian NGO that is committed to fighting poverty and providing the people of backward countries with basic amenities and relief during the time of disasters and natural calamities. It runs a lot of operational projects from time to time along with advocacy drives to raise awareness as well as for funding purposes.\n",
    "\n",
    " \n",
    "\n",
    "After the recent funding programmes, they have been able to raise around $ 10 million. Now the CEO of the NGO needs to decide how to use this money strategically and effectively. The significant issues that come while making this decision are mostly related to choosing the countries that are in the direst need of aid. \n",
    "\n",
    " \n",
    "\n",
    "And this is where you come in as a data analyst. Your job is to categorise the countries using some socio-economic and health factors that determine the overall development of the country. Then you need to suggest the countries which the CEO needs to focus on the most.  The datasets containing those socio-economic factors and the corresponding data dictionary are provided below."
   ]
  },
  {
   "cell_type": "code",
   "execution_count": 3,
   "metadata": {},
   "outputs": [],
   "source": [
    "# Importing Pandas and NumPy\n",
    "import pandas as pd\n",
    "import numpy as np\n",
    "import matplotlib.pyplot as plt\n",
    "import seaborn as sns"
   ]
  },
  {
   "cell_type": "code",
   "execution_count": 4,
   "metadata": {},
   "outputs": [
    {
     "data": {
      "text/html": [
       "<div>\n",
       "<style scoped>\n",
       "    .dataframe tbody tr th:only-of-type {\n",
       "        vertical-align: middle;\n",
       "    }\n",
       "\n",
       "    .dataframe tbody tr th {\n",
       "        vertical-align: top;\n",
       "    }\n",
       "\n",
       "    .dataframe thead th {\n",
       "        text-align: right;\n",
       "    }\n",
       "</style>\n",
       "<table border=\"1\" class=\"dataframe\">\n",
       "  <thead>\n",
       "    <tr style=\"text-align: right;\">\n",
       "      <th></th>\n",
       "      <th>country</th>\n",
       "      <th>child_mort</th>\n",
       "      <th>exports</th>\n",
       "      <th>health</th>\n",
       "      <th>imports</th>\n",
       "      <th>income</th>\n",
       "      <th>inflation</th>\n",
       "      <th>life_expec</th>\n",
       "      <th>total_fer</th>\n",
       "      <th>gdpp</th>\n",
       "    </tr>\n",
       "  </thead>\n",
       "  <tbody>\n",
       "    <tr>\n",
       "      <th>0</th>\n",
       "      <td>Afghanistan</td>\n",
       "      <td>90.2</td>\n",
       "      <td>10.0</td>\n",
       "      <td>7.58</td>\n",
       "      <td>44.9</td>\n",
       "      <td>1610</td>\n",
       "      <td>9.44</td>\n",
       "      <td>56.2</td>\n",
       "      <td>5.82</td>\n",
       "      <td>553</td>\n",
       "    </tr>\n",
       "    <tr>\n",
       "      <th>1</th>\n",
       "      <td>Albania</td>\n",
       "      <td>16.6</td>\n",
       "      <td>28.0</td>\n",
       "      <td>6.55</td>\n",
       "      <td>48.6</td>\n",
       "      <td>9930</td>\n",
       "      <td>4.49</td>\n",
       "      <td>76.3</td>\n",
       "      <td>1.65</td>\n",
       "      <td>4090</td>\n",
       "    </tr>\n",
       "    <tr>\n",
       "      <th>2</th>\n",
       "      <td>Algeria</td>\n",
       "      <td>27.3</td>\n",
       "      <td>38.4</td>\n",
       "      <td>4.17</td>\n",
       "      <td>31.4</td>\n",
       "      <td>12900</td>\n",
       "      <td>16.10</td>\n",
       "      <td>76.5</td>\n",
       "      <td>2.89</td>\n",
       "      <td>4460</td>\n",
       "    </tr>\n",
       "    <tr>\n",
       "      <th>3</th>\n",
       "      <td>Angola</td>\n",
       "      <td>119.0</td>\n",
       "      <td>62.3</td>\n",
       "      <td>2.85</td>\n",
       "      <td>42.9</td>\n",
       "      <td>5900</td>\n",
       "      <td>22.40</td>\n",
       "      <td>60.1</td>\n",
       "      <td>6.16</td>\n",
       "      <td>3530</td>\n",
       "    </tr>\n",
       "    <tr>\n",
       "      <th>4</th>\n",
       "      <td>Antigua and Barbuda</td>\n",
       "      <td>10.3</td>\n",
       "      <td>45.5</td>\n",
       "      <td>6.03</td>\n",
       "      <td>58.9</td>\n",
       "      <td>19100</td>\n",
       "      <td>1.44</td>\n",
       "      <td>76.8</td>\n",
       "      <td>2.13</td>\n",
       "      <td>12200</td>\n",
       "    </tr>\n",
       "  </tbody>\n",
       "</table>\n",
       "</div>"
      ],
      "text/plain": [
       "               country  child_mort  exports  health  imports  income  \\\n",
       "0          Afghanistan        90.2     10.0    7.58     44.9    1610   \n",
       "1              Albania        16.6     28.0    6.55     48.6    9930   \n",
       "2              Algeria        27.3     38.4    4.17     31.4   12900   \n",
       "3               Angola       119.0     62.3    2.85     42.9    5900   \n",
       "4  Antigua and Barbuda        10.3     45.5    6.03     58.9   19100   \n",
       "\n",
       "   inflation  life_expec  total_fer   gdpp  \n",
       "0       9.44        56.2       5.82    553  \n",
       "1       4.49        76.3       1.65   4090  \n",
       "2      16.10        76.5       2.89   4460  \n",
       "3      22.40        60.1       6.16   3530  \n",
       "4       1.44        76.8       2.13  12200  "
      ]
     },
     "execution_count": 4,
     "metadata": {},
     "output_type": "execute_result"
    }
   ],
   "source": [
    "#Importing Dataset\n",
    "country_data = pd.read_csv('Country-data.csv')\n",
    "country_data.head()\n"
   ]
  },
  {
   "cell_type": "code",
   "execution_count": 5,
   "metadata": {},
   "outputs": [
    {
     "name": "stdout",
     "output_type": "stream",
     "text": [
      "<class 'pandas.core.frame.DataFrame'>\n",
      "RangeIndex: 167 entries, 0 to 166\n",
      "Data columns (total 10 columns):\n",
      "country       167 non-null object\n",
      "child_mort    167 non-null float64\n",
      "exports       167 non-null float64\n",
      "health        167 non-null float64\n",
      "imports       167 non-null float64\n",
      "income        167 non-null int64\n",
      "inflation     167 non-null float64\n",
      "life_expec    167 non-null float64\n",
      "total_fer     167 non-null float64\n",
      "gdpp          167 non-null int64\n",
      "dtypes: float64(7), int64(2), object(1)\n",
      "memory usage: 13.1+ KB\n"
     ]
    }
   ],
   "source": [
    "#info of the dataset\n",
    "country_data.info()"
   ]
  },
  {
   "cell_type": "code",
   "execution_count": 6,
   "metadata": {},
   "outputs": [
    {
     "data": {
      "text/plain": [
       "country       0.0\n",
       "child_mort    0.0\n",
       "exports       0.0\n",
       "health        0.0\n",
       "imports       0.0\n",
       "income        0.0\n",
       "inflation     0.0\n",
       "life_expec    0.0\n",
       "total_fer     0.0\n",
       "gdpp          0.0\n",
       "dtype: float64"
      ]
     },
     "execution_count": 6,
     "metadata": {},
     "output_type": "execute_result"
    }
   ],
   "source": [
    "# Checking the percentage of missing values\n",
    "round(100*(country_data.isnull().sum()/len(country_data.index)), 2)"
   ]
  },
  {
   "cell_type": "code",
   "execution_count": 7,
   "metadata": {},
   "outputs": [
    {
     "name": "stdout",
     "output_type": "stream",
     "text": [
      "<class 'pandas.core.frame.DataFrame'>\n",
      "RangeIndex: 167 entries, 0 to 166\n",
      "Data columns (total 10 columns):\n",
      "country       167 non-null object\n",
      "child_mort    167 non-null float64\n",
      "exports       167 non-null float64\n",
      "health        167 non-null float64\n",
      "imports       167 non-null float64\n",
      "income        167 non-null int64\n",
      "inflation     167 non-null float64\n",
      "life_expec    167 non-null float64\n",
      "total_fer     167 non-null float64\n",
      "gdpp          167 non-null int64\n",
      "dtypes: float64(7), int64(2), object(1)\n",
      "memory usage: 13.1+ KB\n"
     ]
    }
   ],
   "source": [
    "#percentages to numbers for 'exports', 'imports', 'health' as mentioned in data definition file\n",
    "pd.options.display.float_format = '{:,.3f}'.format\n",
    "country_data['exports'] = country_data['exports']*country_data['gdpp']/100\n",
    "country_data['imports'] = country_data['imports']*country_data['gdpp']/100\n",
    "country_data['health'] = country_data['health']*country_data['gdpp']/100\n",
    "country_data.info()"
   ]
  },
  {
   "cell_type": "code",
   "execution_count": 8,
   "metadata": {},
   "outputs": [
    {
     "data": {
      "text/html": [
       "<div>\n",
       "<style scoped>\n",
       "    .dataframe tbody tr th:only-of-type {\n",
       "        vertical-align: middle;\n",
       "    }\n",
       "\n",
       "    .dataframe tbody tr th {\n",
       "        vertical-align: top;\n",
       "    }\n",
       "\n",
       "    .dataframe thead th {\n",
       "        text-align: right;\n",
       "    }\n",
       "</style>\n",
       "<table border=\"1\" class=\"dataframe\">\n",
       "  <thead>\n",
       "    <tr style=\"text-align: right;\">\n",
       "      <th></th>\n",
       "      <th>child_mort</th>\n",
       "      <th>exports</th>\n",
       "      <th>health</th>\n",
       "      <th>imports</th>\n",
       "      <th>income</th>\n",
       "      <th>inflation</th>\n",
       "      <th>life_expec</th>\n",
       "      <th>total_fer</th>\n",
       "      <th>gdpp</th>\n",
       "    </tr>\n",
       "  </thead>\n",
       "  <tbody>\n",
       "    <tr>\n",
       "      <th>0</th>\n",
       "      <td>90.200</td>\n",
       "      <td>55.300</td>\n",
       "      <td>41.917</td>\n",
       "      <td>248.297</td>\n",
       "      <td>1610</td>\n",
       "      <td>9.440</td>\n",
       "      <td>56.200</td>\n",
       "      <td>5.820</td>\n",
       "      <td>553</td>\n",
       "    </tr>\n",
       "    <tr>\n",
       "      <th>1</th>\n",
       "      <td>16.600</td>\n",
       "      <td>1,145.200</td>\n",
       "      <td>267.895</td>\n",
       "      <td>1,987.740</td>\n",
       "      <td>9930</td>\n",
       "      <td>4.490</td>\n",
       "      <td>76.300</td>\n",
       "      <td>1.650</td>\n",
       "      <td>4090</td>\n",
       "    </tr>\n",
       "    <tr>\n",
       "      <th>2</th>\n",
       "      <td>27.300</td>\n",
       "      <td>1,712.640</td>\n",
       "      <td>185.982</td>\n",
       "      <td>1,400.440</td>\n",
       "      <td>12900</td>\n",
       "      <td>16.100</td>\n",
       "      <td>76.500</td>\n",
       "      <td>2.890</td>\n",
       "      <td>4460</td>\n",
       "    </tr>\n",
       "    <tr>\n",
       "      <th>3</th>\n",
       "      <td>119.000</td>\n",
       "      <td>2,199.190</td>\n",
       "      <td>100.605</td>\n",
       "      <td>1,514.370</td>\n",
       "      <td>5900</td>\n",
       "      <td>22.400</td>\n",
       "      <td>60.100</td>\n",
       "      <td>6.160</td>\n",
       "      <td>3530</td>\n",
       "    </tr>\n",
       "    <tr>\n",
       "      <th>4</th>\n",
       "      <td>10.300</td>\n",
       "      <td>5,551.000</td>\n",
       "      <td>735.660</td>\n",
       "      <td>7,185.800</td>\n",
       "      <td>19100</td>\n",
       "      <td>1.440</td>\n",
       "      <td>76.800</td>\n",
       "      <td>2.130</td>\n",
       "      <td>12200</td>\n",
       "    </tr>\n",
       "  </tbody>\n",
       "</table>\n",
       "</div>"
      ],
      "text/plain": [
       "   child_mort   exports  health   imports  income  inflation  life_expec  \\\n",
       "0      90.200    55.300  41.917   248.297    1610      9.440      56.200   \n",
       "1      16.600 1,145.200 267.895 1,987.740    9930      4.490      76.300   \n",
       "2      27.300 1,712.640 185.982 1,400.440   12900     16.100      76.500   \n",
       "3     119.000 2,199.190 100.605 1,514.370    5900     22.400      60.100   \n",
       "4      10.300 5,551.000 735.660 7,185.800   19100      1.440      76.800   \n",
       "\n",
       "   total_fer   gdpp  \n",
       "0      5.820    553  \n",
       "1      1.650   4090  \n",
       "2      2.890   4460  \n",
       "3      6.160   3530  \n",
       "4      2.130  12200  "
      ]
     },
     "execution_count": 8,
     "metadata": {},
     "output_type": "execute_result"
    }
   ],
   "source": [
    "#Dropping the country column from original dataframe and assigning to another dataframe\n",
    "Country_df = country_data.drop(['country'],axis=1)\n",
    "colnames = list(country_data.drop('country',axis=1).columns)\n",
    "\n",
    "Country_df.head(5)"
   ]
  },
  {
   "cell_type": "code",
   "execution_count": 9,
   "metadata": {},
   "outputs": [
    {
     "data": {
      "text/html": [
       "<div>\n",
       "<style scoped>\n",
       "    .dataframe tbody tr th:only-of-type {\n",
       "        vertical-align: middle;\n",
       "    }\n",
       "\n",
       "    .dataframe tbody tr th {\n",
       "        vertical-align: top;\n",
       "    }\n",
       "\n",
       "    .dataframe thead th {\n",
       "        text-align: right;\n",
       "    }\n",
       "</style>\n",
       "<table border=\"1\" class=\"dataframe\">\n",
       "  <thead>\n",
       "    <tr style=\"text-align: right;\">\n",
       "      <th></th>\n",
       "      <th>child_mort</th>\n",
       "      <th>exports</th>\n",
       "      <th>health</th>\n",
       "      <th>imports</th>\n",
       "      <th>income</th>\n",
       "      <th>inflation</th>\n",
       "      <th>life_expec</th>\n",
       "      <th>total_fer</th>\n",
       "      <th>gdpp</th>\n",
       "    </tr>\n",
       "  </thead>\n",
       "  <tbody>\n",
       "    <tr>\n",
       "      <th>count</th>\n",
       "      <td>167.000</td>\n",
       "      <td>167.000</td>\n",
       "      <td>167.000</td>\n",
       "      <td>167.000</td>\n",
       "      <td>167.000</td>\n",
       "      <td>167.000</td>\n",
       "      <td>167.000</td>\n",
       "      <td>167.000</td>\n",
       "      <td>167.000</td>\n",
       "    </tr>\n",
       "    <tr>\n",
       "      <th>mean</th>\n",
       "      <td>38.270</td>\n",
       "      <td>7,420.619</td>\n",
       "      <td>1,056.733</td>\n",
       "      <td>6,588.352</td>\n",
       "      <td>17,144.689</td>\n",
       "      <td>7.782</td>\n",
       "      <td>70.556</td>\n",
       "      <td>2.948</td>\n",
       "      <td>12,964.156</td>\n",
       "    </tr>\n",
       "    <tr>\n",
       "      <th>std</th>\n",
       "      <td>40.329</td>\n",
       "      <td>17,973.886</td>\n",
       "      <td>1,801.409</td>\n",
       "      <td>14,710.810</td>\n",
       "      <td>19,278.068</td>\n",
       "      <td>10.571</td>\n",
       "      <td>8.893</td>\n",
       "      <td>1.514</td>\n",
       "      <td>18,328.705</td>\n",
       "    </tr>\n",
       "    <tr>\n",
       "      <th>min</th>\n",
       "      <td>2.600</td>\n",
       "      <td>1.077</td>\n",
       "      <td>12.821</td>\n",
       "      <td>0.651</td>\n",
       "      <td>609.000</td>\n",
       "      <td>-4.210</td>\n",
       "      <td>32.100</td>\n",
       "      <td>1.150</td>\n",
       "      <td>231.000</td>\n",
       "    </tr>\n",
       "    <tr>\n",
       "      <th>25%</th>\n",
       "      <td>8.250</td>\n",
       "      <td>447.140</td>\n",
       "      <td>78.535</td>\n",
       "      <td>640.215</td>\n",
       "      <td>3,355.000</td>\n",
       "      <td>1.810</td>\n",
       "      <td>65.300</td>\n",
       "      <td>1.795</td>\n",
       "      <td>1,330.000</td>\n",
       "    </tr>\n",
       "    <tr>\n",
       "      <th>50%</th>\n",
       "      <td>19.300</td>\n",
       "      <td>1,777.440</td>\n",
       "      <td>321.886</td>\n",
       "      <td>2,045.580</td>\n",
       "      <td>9,960.000</td>\n",
       "      <td>5.390</td>\n",
       "      <td>73.100</td>\n",
       "      <td>2.410</td>\n",
       "      <td>4,660.000</td>\n",
       "    </tr>\n",
       "    <tr>\n",
       "      <th>75%</th>\n",
       "      <td>62.100</td>\n",
       "      <td>7,278.000</td>\n",
       "      <td>976.940</td>\n",
       "      <td>7,719.600</td>\n",
       "      <td>22,800.000</td>\n",
       "      <td>10.750</td>\n",
       "      <td>76.800</td>\n",
       "      <td>3.880</td>\n",
       "      <td>14,050.000</td>\n",
       "    </tr>\n",
       "    <tr>\n",
       "      <th>90%</th>\n",
       "      <td>100.220</td>\n",
       "      <td>17,760.600</td>\n",
       "      <td>3,825.416</td>\n",
       "      <td>15,034.280</td>\n",
       "      <td>41,220.000</td>\n",
       "      <td>16.640</td>\n",
       "      <td>80.400</td>\n",
       "      <td>5.322</td>\n",
       "      <td>41,840.000</td>\n",
       "    </tr>\n",
       "    <tr>\n",
       "      <th>95%</th>\n",
       "      <td>116.000</td>\n",
       "      <td>31,385.100</td>\n",
       "      <td>4,966.701</td>\n",
       "      <td>24,241.560</td>\n",
       "      <td>48,290.000</td>\n",
       "      <td>20.870</td>\n",
       "      <td>81.400</td>\n",
       "      <td>5.861</td>\n",
       "      <td>48,610.000</td>\n",
       "    </tr>\n",
       "    <tr>\n",
       "      <th>99%</th>\n",
       "      <td>153.400</td>\n",
       "      <td>64,794.260</td>\n",
       "      <td>8,410.330</td>\n",
       "      <td>55,371.390</td>\n",
       "      <td>84,374.000</td>\n",
       "      <td>41.478</td>\n",
       "      <td>82.370</td>\n",
       "      <td>6.564</td>\n",
       "      <td>79,088.000</td>\n",
       "    </tr>\n",
       "    <tr>\n",
       "      <th>max</th>\n",
       "      <td>208.000</td>\n",
       "      <td>183,750.000</td>\n",
       "      <td>8,663.600</td>\n",
       "      <td>149,100.000</td>\n",
       "      <td>125,000.000</td>\n",
       "      <td>104.000</td>\n",
       "      <td>82.800</td>\n",
       "      <td>7.490</td>\n",
       "      <td>105,000.000</td>\n",
       "    </tr>\n",
       "  </tbody>\n",
       "</table>\n",
       "</div>"
      ],
      "text/plain": [
       "       child_mort     exports    health     imports      income  inflation  \\\n",
       "count     167.000     167.000   167.000     167.000     167.000    167.000   \n",
       "mean       38.270   7,420.619 1,056.733   6,588.352  17,144.689      7.782   \n",
       "std        40.329  17,973.886 1,801.409  14,710.810  19,278.068     10.571   \n",
       "min         2.600       1.077    12.821       0.651     609.000     -4.210   \n",
       "25%         8.250     447.140    78.535     640.215   3,355.000      1.810   \n",
       "50%        19.300   1,777.440   321.886   2,045.580   9,960.000      5.390   \n",
       "75%        62.100   7,278.000   976.940   7,719.600  22,800.000     10.750   \n",
       "90%       100.220  17,760.600 3,825.416  15,034.280  41,220.000     16.640   \n",
       "95%       116.000  31,385.100 4,966.701  24,241.560  48,290.000     20.870   \n",
       "99%       153.400  64,794.260 8,410.330  55,371.390  84,374.000     41.478   \n",
       "max       208.000 183,750.000 8,663.600 149,100.000 125,000.000    104.000   \n",
       "\n",
       "       life_expec  total_fer        gdpp  \n",
       "count     167.000    167.000     167.000  \n",
       "mean       70.556      2.948  12,964.156  \n",
       "std         8.893      1.514  18,328.705  \n",
       "min        32.100      1.150     231.000  \n",
       "25%        65.300      1.795   1,330.000  \n",
       "50%        73.100      2.410   4,660.000  \n",
       "75%        76.800      3.880  14,050.000  \n",
       "90%        80.400      5.322  41,840.000  \n",
       "95%        81.400      5.861  48,610.000  \n",
       "99%        82.370      6.564  79,088.000  \n",
       "max        82.800      7.490 105,000.000  "
      ]
     },
     "execution_count": 9,
     "metadata": {},
     "output_type": "execute_result"
    }
   ],
   "source": [
    "#Checking percentiles to check the outliers in data \n",
    "country_data.describe(percentiles=[.25,.5,.75,.90,.95,.99])"
   ]
  },
  {
   "cell_type": "markdown",
   "metadata": {},
   "source": [
    "#Let's begin with analysis part\n",
    "# Principal Component Analysis"
   ]
  },
  {
   "cell_type": "code",
   "execution_count": 10,
   "metadata": {},
   "outputs": [],
   "source": [
    "#Scaling the dataframe\n",
    "from sklearn.preprocessing import StandardScaler\n",
    "standard_scaler = StandardScaler()\n",
    "Country_df1 = standard_scaler.fit_transform(Country_df)"
   ]
  },
  {
   "cell_type": "code",
   "execution_count": 11,
   "metadata": {},
   "outputs": [
    {
     "data": {
      "text/plain": [
       "array([[ 1.29153238, -0.4110113 , -0.56503989, ..., -1.61909203,\n",
       "         1.90288227, -0.67917961],\n",
       "       [-0.5389489 , -0.35019096, -0.43921769, ...,  0.64786643,\n",
       "        -0.85997281, -0.48562324],\n",
       "       [-0.27283273, -0.31852577, -0.48482608, ...,  0.67042323,\n",
       "        -0.0384044 , -0.46537561],\n",
       "       ...,\n",
       "       [-0.37231541, -0.36146329, -0.53848844, ...,  0.28695762,\n",
       "        -0.66120626, -0.63775406],\n",
       "       [ 0.44841668, -0.39216643, -0.55059641, ..., -0.34463279,\n",
       "         1.14094382, -0.63775406],\n",
       "       [ 1.11495062, -0.38395214, -0.54049845, ..., -2.09278484,\n",
       "         1.6246091 , -0.62954556]])"
      ]
     },
     "execution_count": 11,
     "metadata": {},
     "output_type": "execute_result"
    }
   ],
   "source": [
    "Country_df1"
   ]
  },
  {
   "cell_type": "code",
   "execution_count": 12,
   "metadata": {},
   "outputs": [
    {
     "data": {
      "text/plain": [
       "(167, 9)"
      ]
     },
     "execution_count": 12,
     "metadata": {},
     "output_type": "execute_result"
    }
   ],
   "source": [
    "Country_df1.shape"
   ]
  },
  {
   "cell_type": "code",
   "execution_count": 13,
   "metadata": {},
   "outputs": [],
   "source": [
    "#Importing the PCA module\n",
    "from sklearn.decomposition import PCA\n",
    "pca = PCA(svd_solver='randomized', random_state=42)"
   ]
  },
  {
   "cell_type": "code",
   "execution_count": 14,
   "metadata": {},
   "outputs": [
    {
     "data": {
      "text/plain": [
       "PCA(copy=True, iterated_power='auto', n_components=None, random_state=42,\n",
       "  svd_solver='randomized', tol=0.0, whiten=False)"
      ]
     },
     "execution_count": 14,
     "metadata": {},
     "output_type": "execute_result"
    }
   ],
   "source": [
    "#Performing the PCA\n",
    "pca.fit(Country_df1)"
   ]
  },
  {
   "cell_type": "code",
   "execution_count": 15,
   "metadata": {},
   "outputs": [
    {
     "data": {
      "text/plain": [
       "array([[-0.31639186,  0.34288671,  0.358535  ,  0.34486492,  0.38004113,\n",
       "        -0.14308531,  0.34385651, -0.30284224,  0.39998795],\n",
       "       [ 0.47626735,  0.39731091,  0.1550529 ,  0.37078075,  0.12838448,\n",
       "         0.22126089, -0.36981973,  0.4597152 ,  0.2006241 ],\n",
       "       [-0.15001225, -0.03057367, -0.07570322, -0.07217386,  0.14576421,\n",
       "         0.94841868,  0.19675173, -0.07783431,  0.01033941],\n",
       "       [-0.14805195,  0.44942527, -0.59971228,  0.46179779, -0.15480592,\n",
       "        -0.00762798, -0.01839465, -0.21392805, -0.36477239],\n",
       "       [ 0.1019948 , -0.03853829, -0.49319984, -0.2527867 ,  0.79407469,\n",
       "        -0.13642345, -0.15404105, -0.02033568,  0.08750149],\n",
       "       [ 0.19658519, -0.03891112,  0.18069888, -0.01217988, -0.03814681,\n",
       "         0.10840284, -0.58600986, -0.75390075,  0.04538167],\n",
       "       [ 0.76126725, -0.01366973, -0.06461567,  0.02718244, -0.02311312,\n",
       "        -0.02207663,  0.58120846, -0.27314534, -0.04402264],\n",
       "       [ 0.00644411, -0.05526371,  0.43007213,  0.1311355 ,  0.3938113 ,\n",
       "        -0.00607016,  0.002966  ,  0.03429334, -0.79902242],\n",
       "       [-0.00495137, -0.71792388, -0.13034593,  0.66568664,  0.07901102,\n",
       "         0.01128137, -0.03159406,  0.02368185,  0.12846398]])"
      ]
     },
     "execution_count": 15,
     "metadata": {},
     "output_type": "execute_result"
    }
   ],
   "source": [
    "#List of PCA components.\n",
    "pca.components_"
   ]
  },
  {
   "cell_type": "code",
   "execution_count": 16,
   "metadata": {},
   "outputs": [
    {
     "data": {
      "text/plain": [
       "array([5.89372984e-01, 1.84451685e-01, 9.91147170e-02, 6.07227801e-02,\n",
       "       3.02917253e-02, 2.45982702e-02, 9.39743701e-03, 1.55641971e-03,\n",
       "       4.93981394e-04])"
      ]
     },
     "execution_count": 16,
     "metadata": {},
     "output_type": "execute_result"
    }
   ],
   "source": [
    "#Let's check the variance ratios\n",
    "pca.explained_variance_ratio_"
   ]
  },
  {
   "cell_type": "code",
   "execution_count": 17,
   "metadata": {},
   "outputs": [
    {
     "data": {
      "image/png": "[encoded data removed]",
      "text/plain": [
       "<Figure size 864x576 with 1 Axes>"
      ]
     },
     "metadata": {
      "needs_background": "light"
     },
     "output_type": "display_data"
    }
   ],
   "source": [
    "#Plotting the scree plot\n",
    "%matplotlib inline\n",
    "fig = plt.figure(figsize = (12,8))\n",
    "plt.plot(np.cumsum(pca.explained_variance_ratio_))\n",
    "plt.xlabel('number of components')\n",
    "plt.ylabel('cumulative explained variance')\n",
    "plt.show()"
   ]
  },
  {
   "cell_type": "markdown",
   "metadata": {},
   "source": [
    "Around 80 to 85% of the information is being explained by 3 component"
   ]
  },
  {
   "cell_type": "code",
   "execution_count": 18,
   "metadata": {},
   "outputs": [
    {
     "data": {
      "text/html": [
       "<div>\n",
       "<style scoped>\n",
       "    .dataframe tbody tr th:only-of-type {\n",
       "        vertical-align: middle;\n",
       "    }\n",
       "\n",
       "    .dataframe tbody tr th {\n",
       "        vertical-align: top;\n",
       "    }\n",
       "\n",
       "    .dataframe thead th {\n",
       "        text-align: right;\n",
       "    }\n",
       "</style>\n",
       "<table border=\"1\" class=\"dataframe\">\n",
       "  <thead>\n",
       "    <tr style=\"text-align: right;\">\n",
       "      <th></th>\n",
       "      <th>PC1</th>\n",
       "      <th>PC2</th>\n",
       "      <th>PC3</th>\n",
       "      <th>Feature</th>\n",
       "    </tr>\n",
       "  </thead>\n",
       "  <tbody>\n",
       "    <tr>\n",
       "      <th>0</th>\n",
       "      <td>-0.316</td>\n",
       "      <td>0.476</td>\n",
       "      <td>-0.150</td>\n",
       "      <td>child_mort</td>\n",
       "    </tr>\n",
       "    <tr>\n",
       "      <th>1</th>\n",
       "      <td>0.343</td>\n",
       "      <td>0.397</td>\n",
       "      <td>-0.031</td>\n",
       "      <td>exports</td>\n",
       "    </tr>\n",
       "    <tr>\n",
       "      <th>2</th>\n",
       "      <td>0.359</td>\n",
       "      <td>0.155</td>\n",
       "      <td>-0.076</td>\n",
       "      <td>health</td>\n",
       "    </tr>\n",
       "    <tr>\n",
       "      <th>3</th>\n",
       "      <td>0.345</td>\n",
       "      <td>0.371</td>\n",
       "      <td>-0.072</td>\n",
       "      <td>imports</td>\n",
       "    </tr>\n",
       "    <tr>\n",
       "      <th>4</th>\n",
       "      <td>0.380</td>\n",
       "      <td>0.128</td>\n",
       "      <td>0.146</td>\n",
       "      <td>income</td>\n",
       "    </tr>\n",
       "    <tr>\n",
       "      <th>5</th>\n",
       "      <td>-0.143</td>\n",
       "      <td>0.221</td>\n",
       "      <td>0.948</td>\n",
       "      <td>inflation</td>\n",
       "    </tr>\n",
       "    <tr>\n",
       "      <th>6</th>\n",
       "      <td>0.344</td>\n",
       "      <td>-0.370</td>\n",
       "      <td>0.197</td>\n",
       "      <td>life_expec</td>\n",
       "    </tr>\n",
       "    <tr>\n",
       "      <th>7</th>\n",
       "      <td>-0.303</td>\n",
       "      <td>0.460</td>\n",
       "      <td>-0.078</td>\n",
       "      <td>total_fer</td>\n",
       "    </tr>\n",
       "    <tr>\n",
       "      <th>8</th>\n",
       "      <td>0.400</td>\n",
       "      <td>0.201</td>\n",
       "      <td>0.010</td>\n",
       "      <td>gdpp</td>\n",
       "    </tr>\n",
       "  </tbody>\n",
       "</table>\n",
       "</div>"
      ],
      "text/plain": [
       "     PC1    PC2    PC3     Feature\n",
       "0 -0.316  0.476 -0.150  child_mort\n",
       "1  0.343  0.397 -0.031     exports\n",
       "2  0.359  0.155 -0.076      health\n",
       "3  0.345  0.371 -0.072     imports\n",
       "4  0.380  0.128  0.146      income\n",
       "5 -0.143  0.221  0.948   inflation\n",
       "6  0.344 -0.370  0.197  life_expec\n",
       "7 -0.303  0.460 -0.078   total_fer\n",
       "8  0.400  0.201  0.010        gdpp"
      ]
     },
     "execution_count": 18,
     "metadata": {},
     "output_type": "execute_result"
    }
   ],
   "source": [
    "# verifying the PCA components\n",
    "\n",
    "pcs_df = pd.DataFrame({'PC1':pca.components_[0],'PC2':pca.components_[1],\n",
    "                       'PC3':pca.components_[2],'Feature':colnames})\n",
    "pcs_df"
   ]
  },
  {
   "cell_type": "code",
   "execution_count": 19,
   "metadata": {},
   "outputs": [
    {
     "data": {
      "image/png": "[encoded data removed]",
      "text/plain": [
       "<Figure size 576x576 with 1 Axes>"
      ]
     },
     "metadata": {
      "needs_background": "light"
     },
     "output_type": "display_data"
    }
   ],
   "source": [
    "## Let's plot them to visualise how these features are loaded\n",
    "%matplotlib inline\n",
    "fig = plt.figure(figsize = (8,8))\n",
    "plt.scatter(pcs_df.PC1, pcs_df.PC2)\n",
    "plt.xlabel('Principal Component 1')\n",
    "plt.ylabel('Principal Component 2')\n",
    "for i, txt in enumerate(pcs_df.Feature):\n",
    "    plt.annotate(txt, (pcs_df.PC1[i],pcs_df.PC2[i]))\n",
    "plt.tight_layout()\n",
    "plt.show()"
   ]
  },
  {
   "cell_type": "code",
   "execution_count": 20,
   "metadata": {},
   "outputs": [],
   "source": [
    "#Finally let's go ahead and do dimenstionality reduction using the two Principal Components\n",
    "#First 3 components  which are nearly 95% explained.\n",
    "from sklearn.decomposition import IncrementalPCA\n",
    "pca_final = IncrementalPCA(n_components=3)"
   ]
  },
  {
   "cell_type": "code",
   "execution_count": 21,
   "metadata": {},
   "outputs": [
    {
     "data": {
      "text/plain": [
       "(167, 3)"
      ]
     },
     "execution_count": 21,
     "metadata": {},
     "output_type": "execute_result"
    }
   ],
   "source": [
    "df_pca = pca_final.fit_transform(Country_df1)\n",
    "df_pca.shape"
   ]
  },
  {
   "cell_type": "code",
   "execution_count": 22,
   "metadata": {},
   "outputs": [
    {
     "data": {
      "text/plain": [
       "array([[-2.63744157e+00,  1.46903797e+00, -5.41359106e-01],\n",
       "       [-2.22769569e-02, -1.43189586e+00, -2.07009539e-02],\n",
       "       [-4.57626261e-01, -6.73300938e-01,  9.61867281e-01],\n",
       "       [-2.72452030e+00,  2.17458267e+00,  6.06686548e-01],\n",
       "       [ 6.49848516e-01, -1.02437392e+00, -2.50102847e-01],\n",
       "       [ 3.71968554e-02, -6.80889086e-01,  1.46696276e+00],\n",
       "       [-3.32691520e-01, -1.27451685e+00,  1.76636110e-01],\n",
       "       [ 3.18036154e+00, -2.50784878e-01, -1.16877257e-01],\n",
       "       [ 3.81568156e+00,  2.56083499e-01, -2.70495294e-01],\n",
       "       [-4.67515152e-01, -4.93492360e-01,  6.03288028e-01],\n",
       "       [ 1.49875246e+00, -4.28907400e-01, -5.50237572e-01],\n",
       "       [ 1.47097104e+00, -3.26795693e-01,  4.28411771e-01],\n",
       "       [-1.01419903e+00, -7.11807758e-01, -1.16988551e-01],\n",
       "       [ 8.45238116e-01, -1.00860625e+00, -4.17261615e-01],\n",
       "       [-1.34473920e-02, -9.82186148e-01,  8.80913018e-01],\n",
       "       [ 3.96087770e+00,  8.38740841e-01, -2.94077196e-01],\n",
       "       [-4.02707071e-01, -9.21816189e-01, -5.04892363e-01],\n",
       "       [-2.36598657e+00,  1.16845951e+00, -1.23525716e+00],\n",
       "       [-7.14998191e-01, -7.68107039e-01, -1.34109127e-01],\n",
       "       [-1.01778054e+00, -4.26144387e-01,  5.16465672e-02],\n",
       "       [ 2.52812687e-01, -1.69696897e+00, -2.50836495e-01],\n",
       "       [-1.13095912e+00,  3.96783001e-01, -2.39304177e-01],\n",
       "       [ 1.66280202e-01, -1.01868043e+00,  2.76558220e-01],\n",
       "       [ 2.69525065e+00,  3.67356498e-01,  1.64616171e+00],\n",
       "       [ 2.80569006e-01, -1.32128913e+00, -3.24418990e-01],\n",
       "       [-2.75387449e+00,  1.66232785e+00, -8.38530674e-01],\n",
       "       [-2.76406823e+00,  1.62703825e+00, -2.89501749e-01],\n",
       "       [-1.17929406e+00, -4.93713667e-01, -5.79293325e-01],\n",
       "       [-2.44142939e+00,  1.28368238e+00, -1.21856998e+00],\n",
       "       [ 3.39411994e+00, -7.58855209e-02, -5.31210031e-02],\n",
       "       [-5.23229456e-01, -9.78047863e-01, -5.73628045e-01],\n",
       "       [-3.24153046e+00,  2.17133945e+00, -1.60432462e+00],\n",
       "       [-3.18889212e+00,  2.35227803e+00, -1.06346393e+00],\n",
       "       [ 6.92394286e-01, -1.11434707e+00,  4.97610946e-01],\n",
       "       [-1.28851026e-01, -1.36213540e+00,  1.69283810e-01],\n",
       "       [-1.38822916e-02, -1.29235162e+00, -9.14677579e-02],\n",
       "       [-1.94991207e+00,  6.04586951e-01, -7.68860274e-01],\n",
       "       [-3.11679859e+00,  2.17150462e+00,  3.65532243e-01],\n",
       "       [-2.04776384e+00,  1.08864497e+00,  7.15229292e-01],\n",
       "       [ 4.31523541e-01, -1.37262753e+00,  2.62061719e-01],\n",
       "       [-2.57476033e+00,  1.49393828e+00, -9.50191143e-01],\n",
       "       [ 8.46278142e-01, -1.26420905e+00, -2.67258861e-01],\n",
       "       [ 2.31379384e+00, -5.50247851e-01, -6.22654443e-02],\n",
       "       [ 1.67463303e+00, -8.68266683e-01, -4.36511824e-01],\n",
       "       [ 4.37600084e+00,  9.19899166e-01, -1.86529955e-01],\n",
       "       [-3.67788028e-01, -8.12993768e-01, -7.21568825e-02],\n",
       "       [-3.02658561e-01, -9.72557952e-01,  1.72477125e-01],\n",
       "       [-8.36646810e-01, -5.29582755e-01,  2.51857913e-01],\n",
       "       [-3.36572123e-01, -1.21747835e+00, -2.87803708e-01],\n",
       "       [-1.05577406e+00,  2.69689134e+00,  1.07364824e+00],\n",
       "       [-1.94848965e+00,  4.93517847e-01, -4.07068580e-02],\n",
       "       [ 1.06557915e+00, -9.24334486e-01, -2.02813828e-01],\n",
       "       [-7.62615708e-01, -5.81923630e-01, -3.87273966e-01],\n",
       "       [ 3.20148606e+00, -4.38651220e-03, -2.77573697e-01],\n",
       "       [ 2.89215450e+00, -3.07170794e-01, -2.12461353e-01],\n",
       "       [-1.28280191e+00,  8.50735122e-01,  5.22787837e-01],\n",
       "       [-2.10533591e+00,  8.25136769e-01, -7.45876298e-01],\n",
       "       [-3.60504965e-01, -1.16420904e+00,  2.22137822e-01],\n",
       "       [ 3.29930852e+00, -1.63475829e-01, -2.47480550e-01],\n",
       "       [-2.00241212e+00,  7.51898968e-01,  3.65803951e-01],\n",
       "       [ 1.93046755e+00, -1.02179786e+00, -1.97169128e-01],\n",
       "       [-8.55184899e-02, -1.03950060e+00, -5.13496872e-01],\n",
       "       [-8.57586524e-01, -5.35167576e-01, -2.38976872e-01],\n",
       "       [-2.71436749e+00,  1.61353038e+00,  3.81112147e-02],\n",
       "       [-2.61088220e+00,  1.40183125e+00, -1.19274761e+00],\n",
       "       [-9.32328908e-01, -4.32759786e-01, -3.12365847e-01],\n",
       "       [-3.94495955e+00,  3.02528124e+00, -1.79111113e+00],\n",
       "       [ 1.05201992e+00, -9.93622931e-01, -1.78986761e-01],\n",
       "       [ 3.10042218e+00,  1.66620534e-01,  1.95525454e-01],\n",
       "       [-1.26527648e+00, -2.73471726e-01, -7.93540516e-02],\n",
       "       [-8.42067437e-01, -5.64431036e-01,  7.04183140e-01],\n",
       "       [-7.83604357e-02, -9.71699050e-01,  1.01036952e+00],\n",
       "       [-1.19755535e+00,  3.66926553e-01,  6.77786697e-01],\n",
       "       [ 4.66106546e+00,  1.40673214e+00, -7.72706005e-01],\n",
       "       [ 1.78332399e+00, -3.98450266e-01, -1.29869769e-01],\n",
       "       [ 2.55301292e+00, -7.77100571e-01, -1.70574633e-01],\n",
       "       [-2.92488125e-01, -1.07098189e+00,  3.72733290e-01],\n",
       "       [ 2.85862023e+00, -8.79853187e-01, -3.49318688e-01],\n",
       "       [-5.21408157e-01, -6.37590059e-01,  2.09087479e-01],\n",
       "       [-3.56704385e-01, -2.21989984e-01,  1.16239312e+00],\n",
       "       [-1.73754907e+00,  2.80717075e-01, -8.73885085e-01],\n",
       "       [-1.66771576e+00,  2.32726872e-01, -9.70327191e-01],\n",
       "       [ 2.78022258e+00,  4.09049216e-01,  1.10198987e+00],\n",
       "       [-1.09060307e+00, -5.44824469e-01,  1.36468875e-01],\n",
       "       [-1.63798735e+00,  2.38587936e-01, -2.18411812e-01],\n",
       "       [ 6.66371378e-01, -1.21036568e+00, -4.98155603e-01],\n",
       "       [ 6.47380735e-01, -1.49788191e+00, -2.74720020e-01],\n",
       "       [-2.43643715e+00,  1.15330757e+00, -1.16893445e+00],\n",
       "       [-2.25920211e+00,  9.31943490e-01, -7.63506099e-01],\n",
       "       [ 4.92263179e-01, -5.17710053e-01,  9.54316810e-01],\n",
       "       [ 7.77907024e-01, -1.00439663e+00, -2.03252447e-01],\n",
       "       [ 1.26443457e+01,  8.26526585e+00, -7.44422522e-01],\n",
       "       [ 8.40286423e-02, -1.46663341e+00, -2.54533838e-01],\n",
       "       [-1.99719466e+00,  5.53843756e-01, -3.38949086e-01],\n",
       "       [-2.71099852e+00,  1.49439612e+00, -3.58971361e-01],\n",
       "       [ 4.27177521e-01, -8.46043967e-01,  2.58877823e-01],\n",
       "       [ 2.31409518e-01, -1.17916241e+00, -1.65173022e-01],\n",
       "       [-2.94714444e+00,  2.00852988e+00, -1.12382153e+00],\n",
       "       [ 2.63607678e+00,  8.71657993e-02, -8.06881075e-02],\n",
       "       [-2.11479497e+00,  1.04608272e+00,  5.93506195e-01],\n",
       "       [ 3.11350366e-01, -1.18393416e+00, -3.53340370e-01],\n",
       "       [-1.11560793e+00, -2.13157479e-01, -5.62427694e-01],\n",
       "       [-5.11219367e-01, -1.23132389e+00,  3.84380598e-01],\n",
       "       [-1.26831401e+00,  8.55486527e-02,  2.75680072e+00],\n",
       "       [ 3.55971705e-01, -1.40622589e+00, -2.37602576e-01],\n",
       "       [-5.46772119e-01, -9.78645302e-01, -5.21939515e-01],\n",
       "       [-2.73267720e+00,  1.54232048e+00, -7.76059664e-01],\n",
       "       [-1.26469403e+00, -3.58711858e-01, -2.54282073e-01],\n",
       "       [-1.33597288e+00,  4.12453164e-01, -7.61497045e-01],\n",
       "       [-1.25257966e+00, -4.03649867e-01,  5.38299132e-01],\n",
       "       [ 4.49434594e+00,  9.91137264e-01, -3.83121947e-01],\n",
       "       [ 2.20708488e+00, -4.60402508e-01,  4.02226753e-02],\n",
       "       [-3.06349475e+00,  2.10345193e+00, -1.29601270e+00],\n",
       "       [-3.93050805e+00,  3.84156564e+00,  7.86649100e+00],\n",
       "       [ 5.84225530e+00,  1.65077719e+00,  1.85810149e-01],\n",
       "       [ 1.05163942e+00, -2.80233805e-02,  1.19785090e+00],\n",
       "       [-1.86271903e+00,  5.66659012e-01, -1.04890743e-01],\n",
       "       [ 3.03027657e-01, -8.77558152e-01, -2.08919158e-01],\n",
       "       [-4.87602063e-01, -9.16197424e-01, -2.02154532e-02],\n",
       "       [-1.79908876e-01, -1.16141959e+00,  7.96190705e-02],\n",
       "       [-9.28957530e-01, -5.99764354e-01, -3.54198733e-01],\n",
       "       [ 8.54815190e-01, -1.28764989e+00, -1.69052042e-01],\n",
       "       [ 1.75954412e+00, -1.08887390e+00, -2.14430100e-01],\n",
       "       [ 5.12429969e+00,  1.44099979e+00,  1.17107078e+00],\n",
       "       [ 2.83523953e-01, -1.24324096e+00, -8.78695362e-02],\n",
       "       [ 1.41656293e-01, -7.97629457e-01,  8.19296842e-01],\n",
       "       [-1.74841079e+00,  2.58810274e-01, -8.07940722e-01],\n",
       "       [-8.48158634e-01, -4.91577438e-01, -5.34690531e-01],\n",
       "       [ 9.11234513e-01,  3.11483433e-02,  1.30178694e+00],\n",
       "       [-1.86271953e+00,  4.93654358e-01, -9.17758293e-01],\n",
       "       [ 1.86490508e-01, -1.43095062e+00,  1.18010625e-01],\n",
       "       [ 6.68231072e-01, -7.68133419e-01, -8.54486502e-01],\n",
       "       [-3.22704810e+00,  2.31622701e+00, -1.19591404e-01],\n",
       "       [ 6.58985925e+00,  2.94076381e+00, -3.37303856e-01],\n",
       "       [ 1.41044469e+00, -7.89309546e-01, -3.49240050e-01],\n",
       "       [ 2.04164022e+00, -7.26174703e-01, -3.97057843e-01],\n",
       "       [-1.51754777e+00,  1.42710226e-02, -3.57636331e-01],\n",
       "       [-1.17984717e+00,  3.49293570e-01, -5.33353823e-01],\n",
       "       [ 1.75633945e+00, -1.02229881e+00,  8.09814622e-02],\n",
       "       [ 2.24348215e+00, -1.00694393e+00, -1.77758596e-01],\n",
       "       [-5.44176127e-01, -9.44779352e-01,  1.57161816e+00],\n",
       "       [-2.25341201e-01, -9.85686904e-01, -1.73911064e-01],\n",
       "       [-2.01686997e+00,  8.51336401e-01,  6.97648281e-01],\n",
       "       [-1.97679055e-01, -5.67097461e-01,  3.35800779e-02],\n",
       "       [ 3.80597136e+00,  3.79849383e-01, -2.38743262e-01],\n",
       "       [ 6.26297409e+00,  1.85000963e+00, -4.76166618e-01],\n",
       "       [-1.37579894e+00, -1.63372836e-01,  2.77517846e-01],\n",
       "       [-2.27834344e+00,  1.00591556e+00, -3.97830215e-01],\n",
       "       [ 1.75003752e-01, -1.39783589e+00, -1.37076883e-02],\n",
       "       [-2.00654209e+00,  1.09209234e+00,  1.39169881e+00],\n",
       "       [-2.24527391e+00,  9.01384656e-01, -1.18666619e+00],\n",
       "       [-8.57094509e-01, -5.43222766e-01, -3.75027066e-01],\n",
       "       [-6.11326382e-02, -1.28052084e+00, -8.88316742e-02],\n",
       "       [ 3.28746959e-01, -1.06532901e+00,  2.66875043e-01],\n",
       "       [-8.95571886e-01, -1.91899504e-01, -6.22690182e-01],\n",
       "       [-2.62250045e+00,  1.46053612e+00, -4.03761119e-01],\n",
       "       [-3.71584511e-01, -1.15734667e+00,  6.51387502e-01],\n",
       "       [ 2.68935982e+00,  5.41214474e-01,  9.57821458e-01],\n",
       "       [ 2.60507653e+00, -3.74391523e-01, -1.46298882e-01],\n",
       "       [ 3.77973688e+00,  1.19298043e-01, -3.09117650e-01],\n",
       "       [ 4.56137111e-01, -1.09822863e+00,  4.89676824e-02],\n",
       "       [-1.03056343e+00, -5.62941401e-01,  7.43224331e-01],\n",
       "       [-1.17501897e+00, -2.81317390e-01, -6.70432664e-01],\n",
       "       [-3.11498487e-01, -6.68715525e-03,  3.65671155e+00],\n",
       "       [-5.92402161e-01, -1.07822432e+00,  5.10558163e-01],\n",
       "       [-1.80154125e+00,  5.90835071e-01,  1.17776563e+00],\n",
       "       [-2.64661126e+00,  1.56806633e+00, -1.74032291e-01]])"
      ]
     },
     "execution_count": 22,
     "metadata": {},
     "output_type": "execute_result"
    }
   ],
   "source": [
    "df_pca"
   ]
  },
  {
   "cell_type": "code",
   "execution_count": 23,
   "metadata": {},
   "outputs": [],
   "source": [
    "#Creating a transpose so that the each column is properly arranged\n",
    "pc = np.transpose(df_pca)"
   ]
  },
  {
   "cell_type": "code",
   "execution_count": 24,
   "metadata": {},
   "outputs": [
    {
     "data": {
      "text/html": [
       "<div>\n",
       "<style scoped>\n",
       "    .dataframe tbody tr th:only-of-type {\n",
       "        vertical-align: middle;\n",
       "    }\n",
       "\n",
       "    .dataframe tbody tr th {\n",
       "        vertical-align: top;\n",
       "    }\n",
       "\n",
       "    .dataframe thead th {\n",
       "        text-align: right;\n",
       "    }\n",
       "</style>\n",
       "<table border=\"1\" class=\"dataframe\">\n",
       "  <thead>\n",
       "    <tr style=\"text-align: right;\">\n",
       "      <th></th>\n",
       "      <th>country</th>\n",
       "      <th>PC1</th>\n",
       "      <th>PC2</th>\n",
       "      <th>PC3</th>\n",
       "    </tr>\n",
       "  </thead>\n",
       "  <tbody>\n",
       "    <tr>\n",
       "      <th>0</th>\n",
       "      <td>Afghanistan</td>\n",
       "      <td>-2.637</td>\n",
       "      <td>1.469</td>\n",
       "      <td>-0.541</td>\n",
       "    </tr>\n",
       "    <tr>\n",
       "      <th>1</th>\n",
       "      <td>Albania</td>\n",
       "      <td>-0.022</td>\n",
       "      <td>-1.432</td>\n",
       "      <td>-0.021</td>\n",
       "    </tr>\n",
       "    <tr>\n",
       "      <th>2</th>\n",
       "      <td>Algeria</td>\n",
       "      <td>-0.458</td>\n",
       "      <td>-0.673</td>\n",
       "      <td>0.962</td>\n",
       "    </tr>\n",
       "    <tr>\n",
       "      <th>3</th>\n",
       "      <td>Angola</td>\n",
       "      <td>-2.725</td>\n",
       "      <td>2.175</td>\n",
       "      <td>0.607</td>\n",
       "    </tr>\n",
       "    <tr>\n",
       "      <th>4</th>\n",
       "      <td>Antigua and Barbuda</td>\n",
       "      <td>0.650</td>\n",
       "      <td>-1.024</td>\n",
       "      <td>-0.250</td>\n",
       "    </tr>\n",
       "  </tbody>\n",
       "</table>\n",
       "</div>"
      ],
      "text/plain": [
       "               country    PC1    PC2    PC3\n",
       "0          Afghanistan -2.637  1.469 -0.541\n",
       "1              Albania -0.022 -1.432 -0.021\n",
       "2              Algeria -0.458 -0.673  0.962\n",
       "3               Angola -2.725  2.175  0.607\n",
       "4  Antigua and Barbuda  0.650 -1.024 -0.250"
      ]
     },
     "execution_count": 24,
     "metadata": {},
     "output_type": "execute_result"
    }
   ],
   "source": [
    "# Appending Country name to transaformed data \n",
    "\n",
    "pca_columns=['PC1','PC2','PC3']\n",
    "df_pca = pd.DataFrame(df_pca,columns=pca_columns)\n",
    "df_pca = pd.concat([country_data['country'],df_pca],axis=1)\n",
    "df_pca.head()"
   ]
  },
  {
   "cell_type": "code",
   "execution_count": 25,
   "metadata": {},
   "outputs": [
    {
     "data": {
      "image/png": "[encoded data removed]",
      "text/plain": [
       "<Figure size 432x288 with 1 Axes>"
      ]
     },
     "metadata": {
      "needs_background": "light"
     },
     "output_type": "display_data"
    }
   ],
   "source": [
    "## Let's perform Outlier Analysis\n",
    "#Let's do the outlier analysis before proceeding to clustering\n",
    "plt.boxplot(df_pca.PC1)\n",
    "Q1 = df_pca.PC1.quantile(0.05)\n",
    "Q3 = df_pca.PC1.quantile(0.95)\n",
    "IQR = Q3 - Q1\n",
    "df_pca =df_pca[(df_pca.PC1 >= Q1) & (df_pca.PC1 <= Q3)]\n"
   ]
  },
  {
   "cell_type": "code",
   "execution_count": 26,
   "metadata": {},
   "outputs": [
    {
     "data": {
      "image/png": "[encoded data removed]",
      "text/plain": [
       "<Figure size 432x288 with 1 Axes>"
      ]
     },
     "metadata": {
      "needs_background": "light"
     },
     "output_type": "display_data"
    }
   ],
   "source": [
    "plt.boxplot(df_pca.PC2)\n",
    "Q1 = df_pca.PC2.quantile(0.05)\n",
    "Q3 =df_pca.PC2.quantile(0.95)\n",
    "IQR = Q3 - Q1\n",
    "df_pca = df_pca[(df_pca.PC2 >= Q1) & (df_pca.PC2 <= Q3)]"
   ]
  },
  {
   "cell_type": "code",
   "execution_count": 27,
   "metadata": {},
   "outputs": [
    {
     "data": {
      "image/png": "[encoded data removed]",
      "text/plain": [
       "<Figure size 432x288 with 1 Axes>"
      ]
     },
     "metadata": {
      "needs_background": "light"
     },
     "output_type": "display_data"
    }
   ],
   "source": [
    "plt.boxplot(df_pca.PC3)\n",
    "Q1 =df_pca.PC3.quantile(0.05)\n",
    "Q3 = df_pca.PC3.quantile(0.95)\n",
    "IQR = Q3 - Q1\n",
    "df_pca= df_pca[(df_pca.PC3 >= Q1) & (df_pca.PC3 <= Q3)]"
   ]
  },
  {
   "cell_type": "code",
   "execution_count": 28,
   "metadata": {},
   "outputs": [
    {
     "data": {
      "text/plain": [
       "(119, 4)"
      ]
     },
     "execution_count": 28,
     "metadata": {},
     "output_type": "execute_result"
    }
   ],
   "source": [
    "df_pca.shape"
   ]
  },
  {
   "cell_type": "code",
   "execution_count": 29,
   "metadata": {},
   "outputs": [
    {
     "data": {
      "text/html": [
       "<div>\n",
       "<style scoped>\n",
       "    .dataframe tbody tr th:only-of-type {\n",
       "        vertical-align: middle;\n",
       "    }\n",
       "\n",
       "    .dataframe tbody tr th {\n",
       "        vertical-align: top;\n",
       "    }\n",
       "\n",
       "    .dataframe thead th {\n",
       "        text-align: right;\n",
       "    }\n",
       "</style>\n",
       "<table border=\"1\" class=\"dataframe\">\n",
       "  <thead>\n",
       "    <tr style=\"text-align: right;\">\n",
       "      <th></th>\n",
       "      <th>index</th>\n",
       "      <th>country</th>\n",
       "      <th>PC1</th>\n",
       "      <th>PC2</th>\n",
       "      <th>PC3</th>\n",
       "    </tr>\n",
       "  </thead>\n",
       "  <tbody>\n",
       "    <tr>\n",
       "      <th>0</th>\n",
       "      <td>0</td>\n",
       "      <td>Afghanistan</td>\n",
       "      <td>-2.637</td>\n",
       "      <td>1.469</td>\n",
       "      <td>-0.541</td>\n",
       "    </tr>\n",
       "    <tr>\n",
       "      <th>1</th>\n",
       "      <td>2</td>\n",
       "      <td>Algeria</td>\n",
       "      <td>-0.458</td>\n",
       "      <td>-0.673</td>\n",
       "      <td>0.962</td>\n",
       "    </tr>\n",
       "    <tr>\n",
       "      <th>2</th>\n",
       "      <td>4</td>\n",
       "      <td>Antigua and Barbuda</td>\n",
       "      <td>0.650</td>\n",
       "      <td>-1.024</td>\n",
       "      <td>-0.250</td>\n",
       "    </tr>\n",
       "    <tr>\n",
       "      <th>3</th>\n",
       "      <td>6</td>\n",
       "      <td>Armenia</td>\n",
       "      <td>-0.333</td>\n",
       "      <td>-1.275</td>\n",
       "      <td>0.177</td>\n",
       "    </tr>\n",
       "    <tr>\n",
       "      <th>4</th>\n",
       "      <td>7</td>\n",
       "      <td>Australia</td>\n",
       "      <td>3.180</td>\n",
       "      <td>-0.251</td>\n",
       "      <td>-0.117</td>\n",
       "    </tr>\n",
       "  </tbody>\n",
       "</table>\n",
       "</div>"
      ],
      "text/plain": [
       "   index              country    PC1    PC2    PC3\n",
       "0      0          Afghanistan -2.637  1.469 -0.541\n",
       "1      2              Algeria -0.458 -0.673  0.962\n",
       "2      4  Antigua and Barbuda  0.650 -1.024 -0.250\n",
       "3      6              Armenia -0.333 -1.275  0.177\n",
       "4      7            Australia  3.180 -0.251 -0.117"
      ]
     },
     "execution_count": 29,
     "metadata": {},
     "output_type": "execute_result"
    }
   ],
   "source": [
    "# Reset the index for new dataframe with no outliers.\n",
    "\n",
    "df_pca_df1 = df_pca.reset_index()\n",
    "df_pca_df2 =df_pca_df1\n",
    "df_pca_df1.head()"
   ]
  },
  {
   "cell_type": "code",
   "execution_count": 30,
   "metadata": {},
   "outputs": [
    {
     "data": {
      "text/html": [
       "<div>\n",
       "<style scoped>\n",
       "    .dataframe tbody tr th:only-of-type {\n",
       "        vertical-align: middle;\n",
       "    }\n",
       "\n",
       "    .dataframe tbody tr th {\n",
       "        vertical-align: top;\n",
       "    }\n",
       "\n",
       "    .dataframe thead th {\n",
       "        text-align: right;\n",
       "    }\n",
       "</style>\n",
       "<table border=\"1\" class=\"dataframe\">\n",
       "  <thead>\n",
       "    <tr style=\"text-align: right;\">\n",
       "      <th></th>\n",
       "      <th>PC1</th>\n",
       "      <th>PC2</th>\n",
       "      <th>PC3</th>\n",
       "    </tr>\n",
       "  </thead>\n",
       "  <tbody>\n",
       "    <tr>\n",
       "      <th>0</th>\n",
       "      <td>-2.637</td>\n",
       "      <td>1.469</td>\n",
       "      <td>-0.541</td>\n",
       "    </tr>\n",
       "    <tr>\n",
       "      <th>1</th>\n",
       "      <td>-0.458</td>\n",
       "      <td>-0.673</td>\n",
       "      <td>0.962</td>\n",
       "    </tr>\n",
       "    <tr>\n",
       "      <th>2</th>\n",
       "      <td>0.650</td>\n",
       "      <td>-1.024</td>\n",
       "      <td>-0.250</td>\n",
       "    </tr>\n",
       "    <tr>\n",
       "      <th>3</th>\n",
       "      <td>-0.333</td>\n",
       "      <td>-1.275</td>\n",
       "      <td>0.177</td>\n",
       "    </tr>\n",
       "    <tr>\n",
       "      <th>4</th>\n",
       "      <td>3.180</td>\n",
       "      <td>-0.251</td>\n",
       "      <td>-0.117</td>\n",
       "    </tr>\n",
       "  </tbody>\n",
       "</table>\n",
       "</div>"
      ],
      "text/plain": [
       "     PC1    PC2    PC3\n",
       "0 -2.637  1.469 -0.541\n",
       "1 -0.458 -0.673  0.962\n",
       "2  0.650 -1.024 -0.250\n",
       "3 -0.333 -1.275  0.177\n",
       "4  3.180 -0.251 -0.117"
      ]
     },
     "execution_count": 30,
     "metadata": {},
     "output_type": "execute_result"
    }
   ],
   "source": [
    "# New data frame with principal components\n",
    "\n",
    "df_pca = df_pca.drop(columns=['country']).reset_index()\n",
    "df_pca = df_pca.drop(columns=['index'])\n",
    "df_pca.head()"
   ]
  },
  {
   "cell_type": "code",
   "execution_count": 31,
   "metadata": {},
   "outputs": [
    {
     "data": {
      "text/plain": [
       "<matplotlib.axes._subplots.AxesSubplot at 0x279d39a3e10>"
      ]
     },
     "execution_count": 31,
     "metadata": {},
     "output_type": "execute_result"
    },
    {
     "data": {
      "image/png": "[encoded data removed]",
      "text/plain": [
       "<Figure size 432x288 with 1 Axes>"
      ]
     },
     "metadata": {
      "needs_background": "light"
     },
     "output_type": "display_data"
    }
   ],
   "source": [
    "#Visualising the points on the PC1 and PC2.\n",
    "sns.scatterplot(x='PC1',y='PC2',data=df_pca_df1)"
   ]
  },
  {
   "cell_type": "code",
   "execution_count": 32,
   "metadata": {},
   "outputs": [
    {
     "data": {
      "text/plain": [
       "<matplotlib.axes._subplots.AxesSubplot at 0x279d3d7b978>"
      ]
     },
     "execution_count": 32,
     "metadata": {},
     "output_type": "execute_result"
    },
    {
     "data": {
      "image/png": "[encoded data removed]",
      "text/plain": [
       "<Figure size 432x288 with 1 Axes>"
      ]
     },
     "metadata": {
      "needs_background": "light"
     },
     "output_type": "display_data"
    }
   ],
   "source": [
    "#Visualising the points on the PC2 and PC3.\n",
    "sns.scatterplot(x='PC2',y='PC3',data=df_pca_df1)"
   ]
  },
  {
   "cell_type": "code",
   "execution_count": 33,
   "metadata": {},
   "outputs": [
    {
     "data": {
      "text/plain": [
       "<matplotlib.axes._subplots.AxesSubplot at 0x279d3dda080>"
      ]
     },
     "execution_count": 33,
     "metadata": {},
     "output_type": "execute_result"
    },
    {
     "data": {
      "image/png": "[encoded data removed]",
      "text/plain": [
       "<Figure size 432x288 with 1 Axes>"
      ]
     },
     "metadata": {
      "needs_background": "light"
     },
     "output_type": "display_data"
    }
   ],
   "source": [
    "#Visualising the points on the PC1 and PC3.\n",
    "sns.scatterplot(x='PC1',y='PC3',data=df_pca_df1)"
   ]
  },
  {
   "cell_type": "markdown",
   "metadata": {},
   "source": [
    "Clustering-K-means"
   ]
  },
  {
   "cell_type": "code",
   "execution_count": 34,
   "metadata": {},
   "outputs": [],
   "source": [
    "#Calculating the Hopkins statistic\n",
    "from sklearn.neighbors import NearestNeighbors\n",
    "from random import sample\n",
    "from numpy.random import uniform\n",
    "import numpy as np\n",
    "from math import isnan\n",
    " \n",
    "def hopkins(X):\n",
    "    d = X.shape[1]\n",
    "    #d = len(vars) # columns\n",
    "    n = len(X) # rows\n",
    "    m = int(0.1 * n) \n",
    "    nbrs = NearestNeighbors(n_neighbors=1).fit(X.values)\n",
    " \n",
    "    rand_X = sample(range(0, n, 1), m)\n",
    " \n",
    "    ujd = []\n",
    "    wjd = []\n",
    "    for j in range(0, m):\n",
    "        u_dist, _ = nbrs.kneighbors(uniform(np.amin(X,axis=0),np.amax(X,axis=0),d).reshape(1, -1), 2, return_distance=True)\n",
    "        ujd.append(u_dist[0][1])\n",
    "        w_dist, _ = nbrs.kneighbors(X.iloc[rand_X[j]].values.reshape(1, -1), 2, return_distance=True)\n",
    "        wjd.append(w_dist[0][1])\n",
    " \n",
    "    H = sum(ujd) / (sum(ujd) + sum(wjd))\n",
    "    if isnan(H):\n",
    "        print(ujd, wjd)\n",
    "        H = 0\n",
    " \n",
    "    return H"
   ]
  },
  {
   "cell_type": "code",
   "execution_count": 35,
   "metadata": {},
   "outputs": [
    {
     "data": {
      "text/plain": [
       "0.7619096719131621"
      ]
     },
     "execution_count": 35,
     "metadata": {},
     "output_type": "execute_result"
    }
   ],
   "source": [
    "#Let's check the Hopkins measure\n",
    "hopkins(df_pca)"
   ]
  },
  {
   "cell_type": "markdown",
   "metadata": {},
   "source": [
    "#Since the value is > 0.5 the given dataset has a good tendency to form clusters."
   ]
  },
  {
   "cell_type": "code",
   "execution_count": 36,
   "metadata": {},
   "outputs": [],
   "source": [
    "#Importing Libraries\n",
    "import pandas as pd\n",
    "\n",
    "# For Visualisation\n",
    "import matplotlib.pyplot as plt\n",
    "import seaborn as sns\n",
    "%matplotlib inline\n",
    "\n",
    "# To Scale our data\n",
    "from sklearn.preprocessing import scale\n",
    "\n",
    "# To perform KMeans clustering \n",
    "from sklearn.cluster import KMeans"
   ]
  },
  {
   "cell_type": "code",
   "execution_count": 37,
   "metadata": {},
   "outputs": [],
   "source": [
    "#First we'll do the silhouette score analysis\n",
    "from sklearn.metrics import silhouette_score\n",
    "sse_ = []\n",
    "for k in range(2, 10):\n",
    "    kmeans = KMeans(n_clusters=k).fit(df_pca)\n",
    "    sse_.append([k, silhouette_score(df_pca, kmeans.labels_)])"
   ]
  },
  {
   "cell_type": "code",
   "execution_count": 38,
   "metadata": {},
   "outputs": [
    {
     "data": {
      "image/png": "[encoded data removed]",
      "text/plain": [
       "<Figure size 432x288 with 1 Axes>"
      ]
     },
     "metadata": {
      "needs_background": "light"
     },
     "output_type": "display_data"
    }
   ],
   "source": [
    "plt.plot(pd.DataFrame(sse_)[0], pd.DataFrame(sse_)[1]);"
   ]
  },
  {
   "cell_type": "code",
   "execution_count": 39,
   "metadata": {},
   "outputs": [
    {
     "data": {
      "text/plain": [
       "[<matplotlib.lines.Line2D at 0x279d397dcc0>]"
      ]
     },
     "execution_count": 39,
     "metadata": {},
     "output_type": "execute_result"
    },
    {
     "data": {
      "image/png": "[encoded data removed]",
      "text/plain": [
       "<Figure size 432x288 with 1 Axes>"
      ]
     },
     "metadata": {
      "needs_background": "light"
     },
     "output_type": "display_data"
    }
   ],
   "source": [
    "## From the above analysis we find that 2 seems to be a good number of clusters for K means algorithm\n",
    "#Now let's proceed to the elbow curve method\n",
    "ssd = []\n",
    "for num_clusters in list(range(1,10)):\n",
    "    model_clus = KMeans(n_clusters = num_clusters, max_iter=50)\n",
    "    model_clus.fit(df_pca)\n",
    "    ssd.append(model_clus.inertia_)\n",
    "\n",
    "plt.plot(ssd)"
   ]
  },
  {
   "cell_type": "code",
   "execution_count": 40,
   "metadata": {},
   "outputs": [
    {
     "data": {
      "text/plain": [
       "KMeans(algorithm='auto', copy_x=True, init='k-means++', max_iter=50,\n",
       "    n_clusters=3, n_init=10, n_jobs=1, precompute_distances='auto',\n",
       "    random_state=None, tol=0.0001, verbose=0)"
      ]
     },
     "execution_count": 40,
     "metadata": {},
     "output_type": "execute_result"
    }
   ],
   "source": [
    "# Kmeans with K clusters\n",
    "\n",
    "clstrs = 3\n",
    "\n",
    "model_clus = KMeans(n_clusters = clstrs, max_iter=50)\n",
    "model_clus.fit(df_pca)\n"
   ]
  },
  {
   "cell_type": "code",
   "execution_count": 41,
   "metadata": {},
   "outputs": [
    {
     "data": {
      "text/plain": [
       "array([0, 2, 2, 2, 1, 1, 2, 1, 1, 2, 2, 2, 2, 2, 2, 0, 2, 2, 0, 1, 2, 2,\n",
       "       2, 2, 0, 0, 2, 1, 1, 2, 2, 2, 2, 0, 2, 2, 1, 1, 0, 0, 2, 1, 0, 1,\n",
       "       2, 2, 2, 2, 1, 0, 2, 2, 0, 1, 1, 2, 1, 2, 2, 0, 1, 2, 0, 2, 0, 2,\n",
       "       2, 0, 2, 2, 1, 0, 2, 0, 2, 2, 0, 0, 0, 1, 2, 0, 2, 2, 2, 2, 2, 1,\n",
       "       2, 2, 0, 2, 2, 1, 1, 0, 0, 1, 1, 2, 0, 2, 1, 0, 0, 2, 2, 2, 0, 0,\n",
       "       2, 1, 1, 1, 2, 2, 0, 2, 0])"
      ]
     },
     "execution_count": 41,
     "metadata": {},
     "output_type": "execute_result"
    }
   ],
   "source": [
    "# List of clusters for the data\n",
    "model_clus.labels_"
   ]
  },
  {
   "cell_type": "code",
   "execution_count": 42,
   "metadata": {},
   "outputs": [
    {
     "data": {
      "text/html": [
       "<div>\n",
       "<style scoped>\n",
       "    .dataframe tbody tr th:only-of-type {\n",
       "        vertical-align: middle;\n",
       "    }\n",
       "\n",
       "    .dataframe tbody tr th {\n",
       "        vertical-align: top;\n",
       "    }\n",
       "\n",
       "    .dataframe thead th {\n",
       "        text-align: right;\n",
       "    }\n",
       "</style>\n",
       "<table border=\"1\" class=\"dataframe\">\n",
       "  <thead>\n",
       "    <tr style=\"text-align: right;\">\n",
       "      <th></th>\n",
       "      <th>ClusterID</th>\n",
       "      <th>PC1</th>\n",
       "      <th>PC2</th>\n",
       "      <th>PC3</th>\n",
       "    </tr>\n",
       "  </thead>\n",
       "  <tbody>\n",
       "    <tr>\n",
       "      <th>0</th>\n",
       "      <td>0</td>\n",
       "      <td>-2.637</td>\n",
       "      <td>1.469</td>\n",
       "      <td>-0.541</td>\n",
       "    </tr>\n",
       "    <tr>\n",
       "      <th>1</th>\n",
       "      <td>2</td>\n",
       "      <td>-0.458</td>\n",
       "      <td>-0.673</td>\n",
       "      <td>0.962</td>\n",
       "    </tr>\n",
       "    <tr>\n",
       "      <th>2</th>\n",
       "      <td>2</td>\n",
       "      <td>0.650</td>\n",
       "      <td>-1.024</td>\n",
       "      <td>-0.250</td>\n",
       "    </tr>\n",
       "    <tr>\n",
       "      <th>3</th>\n",
       "      <td>2</td>\n",
       "      <td>-0.333</td>\n",
       "      <td>-1.275</td>\n",
       "      <td>0.177</td>\n",
       "    </tr>\n",
       "    <tr>\n",
       "      <th>4</th>\n",
       "      <td>1</td>\n",
       "      <td>3.180</td>\n",
       "      <td>-0.251</td>\n",
       "      <td>-0.117</td>\n",
       "    </tr>\n",
       "  </tbody>\n",
       "</table>\n",
       "</div>"
      ],
      "text/plain": [
       "   ClusterID    PC1    PC2    PC3\n",
       "0          0 -2.637  1.469 -0.541\n",
       "1          2 -0.458 -0.673  0.962\n",
       "2          2  0.650 -1.024 -0.250\n",
       "3          2 -0.333 -1.275  0.177\n",
       "4          1  3.180 -0.251 -0.117"
      ]
     },
     "execution_count": 42,
     "metadata": {},
     "output_type": "execute_result"
    }
   ],
   "source": [
    "# Appending cluster to PCA components data frame\n",
    "\n",
    "pca_df1 = pd.concat([pd.Series(model_clus.labels_),df_pca],axis=1)\n",
    "pca_df1 = pca_df1.rename(columns = {0:'ClusterID'})\n",
    "\n",
    "pca_df1.head()"
   ]
  },
  {
   "cell_type": "code",
   "execution_count": 43,
   "metadata": {},
   "outputs": [
    {
     "data": {
      "text/html": [
       "<div>\n",
       "<style scoped>\n",
       "    .dataframe tbody tr th:only-of-type {\n",
       "        vertical-align: middle;\n",
       "    }\n",
       "\n",
       "    .dataframe tbody tr th {\n",
       "        vertical-align: top;\n",
       "    }\n",
       "\n",
       "    .dataframe thead th {\n",
       "        text-align: right;\n",
       "    }\n",
       "</style>\n",
       "<table border=\"1\" class=\"dataframe\">\n",
       "  <thead>\n",
       "    <tr style=\"text-align: right;\">\n",
       "      <th></th>\n",
       "      <th>index</th>\n",
       "      <th>country</th>\n",
       "      <th>PC1</th>\n",
       "      <th>PC2</th>\n",
       "      <th>PC3</th>\n",
       "      <th>ClusterID</th>\n",
       "    </tr>\n",
       "  </thead>\n",
       "  <tbody>\n",
       "    <tr>\n",
       "      <th>0</th>\n",
       "      <td>0</td>\n",
       "      <td>Afghanistan</td>\n",
       "      <td>-2.637</td>\n",
       "      <td>1.469</td>\n",
       "      <td>-0.541</td>\n",
       "      <td>0</td>\n",
       "    </tr>\n",
       "    <tr>\n",
       "      <th>1</th>\n",
       "      <td>2</td>\n",
       "      <td>Algeria</td>\n",
       "      <td>-0.458</td>\n",
       "      <td>-0.673</td>\n",
       "      <td>0.962</td>\n",
       "      <td>2</td>\n",
       "    </tr>\n",
       "    <tr>\n",
       "      <th>2</th>\n",
       "      <td>4</td>\n",
       "      <td>Antigua and Barbuda</td>\n",
       "      <td>0.650</td>\n",
       "      <td>-1.024</td>\n",
       "      <td>-0.250</td>\n",
       "      <td>2</td>\n",
       "    </tr>\n",
       "    <tr>\n",
       "      <th>3</th>\n",
       "      <td>6</td>\n",
       "      <td>Armenia</td>\n",
       "      <td>-0.333</td>\n",
       "      <td>-1.275</td>\n",
       "      <td>0.177</td>\n",
       "      <td>2</td>\n",
       "    </tr>\n",
       "    <tr>\n",
       "      <th>4</th>\n",
       "      <td>7</td>\n",
       "      <td>Australia</td>\n",
       "      <td>3.180</td>\n",
       "      <td>-0.251</td>\n",
       "      <td>-0.117</td>\n",
       "      <td>1</td>\n",
       "    </tr>\n",
       "  </tbody>\n",
       "</table>\n",
       "</div>"
      ],
      "text/plain": [
       "   index              country    PC1    PC2    PC3  ClusterID\n",
       "0      0          Afghanistan -2.637  1.469 -0.541          0\n",
       "1      2              Algeria -0.458 -0.673  0.962          2\n",
       "2      4  Antigua and Barbuda  0.650 -1.024 -0.250          2\n",
       "3      6              Armenia -0.333 -1.275  0.177          2\n",
       "4      7            Australia  3.180 -0.251 -0.117          1"
      ]
     },
     "execution_count": 43,
     "metadata": {},
     "output_type": "execute_result"
    }
   ],
   "source": [
    "Country_data_pca_df = pd.concat([df_pca_df1, pca_df1['ClusterID']], axis=1)\n",
    "Country_data_pca_df.head()"
   ]
  },
  {
   "cell_type": "code",
   "execution_count": 44,
   "metadata": {},
   "outputs": [
    {
     "data": {
      "text/html": [
       "<div>\n",
       "<style scoped>\n",
       "    .dataframe tbody tr th:only-of-type {\n",
       "        vertical-align: middle;\n",
       "    }\n",
       "\n",
       "    .dataframe tbody tr th {\n",
       "        vertical-align: top;\n",
       "    }\n",
       "\n",
       "    .dataframe thead th {\n",
       "        text-align: right;\n",
       "    }\n",
       "</style>\n",
       "<table border=\"1\" class=\"dataframe\">\n",
       "  <thead>\n",
       "    <tr style=\"text-align: right;\">\n",
       "      <th></th>\n",
       "      <th>country</th>\n",
       "      <th>ClusterID</th>\n",
       "      <th>child_mort</th>\n",
       "      <th>exports</th>\n",
       "      <th>health</th>\n",
       "      <th>imports</th>\n",
       "      <th>income</th>\n",
       "      <th>inflation</th>\n",
       "      <th>life_expec</th>\n",
       "      <th>total_fer</th>\n",
       "      <th>gdpp</th>\n",
       "    </tr>\n",
       "  </thead>\n",
       "  <tbody>\n",
       "    <tr>\n",
       "      <th>0</th>\n",
       "      <td>Afghanistan</td>\n",
       "      <td>0</td>\n",
       "      <td>90.200</td>\n",
       "      <td>55.300</td>\n",
       "      <td>41.917</td>\n",
       "      <td>248.297</td>\n",
       "      <td>1610</td>\n",
       "      <td>9.440</td>\n",
       "      <td>56.200</td>\n",
       "      <td>5.820</td>\n",
       "      <td>553</td>\n",
       "    </tr>\n",
       "    <tr>\n",
       "      <th>1</th>\n",
       "      <td>Algeria</td>\n",
       "      <td>2</td>\n",
       "      <td>27.300</td>\n",
       "      <td>1,712.640</td>\n",
       "      <td>185.982</td>\n",
       "      <td>1,400.440</td>\n",
       "      <td>12900</td>\n",
       "      <td>16.100</td>\n",
       "      <td>76.500</td>\n",
       "      <td>2.890</td>\n",
       "      <td>4460</td>\n",
       "    </tr>\n",
       "    <tr>\n",
       "      <th>2</th>\n",
       "      <td>Antigua and Barbuda</td>\n",
       "      <td>2</td>\n",
       "      <td>10.300</td>\n",
       "      <td>5,551.000</td>\n",
       "      <td>735.660</td>\n",
       "      <td>7,185.800</td>\n",
       "      <td>19100</td>\n",
       "      <td>1.440</td>\n",
       "      <td>76.800</td>\n",
       "      <td>2.130</td>\n",
       "      <td>12200</td>\n",
       "    </tr>\n",
       "    <tr>\n",
       "      <th>3</th>\n",
       "      <td>Armenia</td>\n",
       "      <td>2</td>\n",
       "      <td>18.100</td>\n",
       "      <td>669.760</td>\n",
       "      <td>141.680</td>\n",
       "      <td>1,458.660</td>\n",
       "      <td>6700</td>\n",
       "      <td>7.770</td>\n",
       "      <td>73.300</td>\n",
       "      <td>1.690</td>\n",
       "      <td>3220</td>\n",
       "    </tr>\n",
       "    <tr>\n",
       "      <th>4</th>\n",
       "      <td>Australia</td>\n",
       "      <td>1</td>\n",
       "      <td>4.800</td>\n",
       "      <td>10,276.200</td>\n",
       "      <td>4,530.870</td>\n",
       "      <td>10,847.100</td>\n",
       "      <td>41400</td>\n",
       "      <td>1.160</td>\n",
       "      <td>82.000</td>\n",
       "      <td>1.930</td>\n",
       "      <td>51900</td>\n",
       "    </tr>\n",
       "  </tbody>\n",
       "</table>\n",
       "</div>"
      ],
      "text/plain": [
       "               country  ClusterID  child_mort    exports    health    imports  \\\n",
       "0          Afghanistan          0      90.200     55.300    41.917    248.297   \n",
       "1              Algeria          2      27.300  1,712.640   185.982  1,400.440   \n",
       "2  Antigua and Barbuda          2      10.300  5,551.000   735.660  7,185.800   \n",
       "3              Armenia          2      18.100    669.760   141.680  1,458.660   \n",
       "4            Australia          1       4.800 10,276.200 4,530.870 10,847.100   \n",
       "\n",
       "   income  inflation  life_expec  total_fer   gdpp  \n",
       "0    1610      9.440      56.200      5.820    553  \n",
       "1   12900     16.100      76.500      2.890   4460  \n",
       "2   19100      1.440      76.800      2.130  12200  \n",
       "3    6700      7.770      73.300      1.690   3220  \n",
       "4   41400      1.160      82.000      1.930  51900  "
      ]
     },
     "execution_count": 44,
     "metadata": {},
     "output_type": "execute_result"
    }
   ],
   "source": [
    "# Appending cluster to full data frame\n",
    "\n",
    "Country_data1 = pd.merge(Country_data_pca_df,country_data,how='inner',on='country')\n",
    "Country_data1 = Country_data1.drop(columns=['PC1','PC2','PC3','index'])\n",
    "Country_data1.head()"
   ]
  },
  {
   "cell_type": "code",
   "execution_count": 45,
   "metadata": {},
   "outputs": [
    {
     "data": {
      "text/plain": [
       "2    61\n",
       "0    31\n",
       "1    27\n",
       "Name: ClusterID, dtype: int64"
      ]
     },
     "execution_count": 45,
     "metadata": {},
     "output_type": "execute_result"
    }
   ],
   "source": [
    "#Checking cluster count.\n",
    "\n",
    "Country_data1['ClusterID'].value_counts()"
   ]
  },
  {
   "cell_type": "code",
   "execution_count": 46,
   "metadata": {},
   "outputs": [
    {
     "data": {
      "text/plain": [
       "<matplotlib.axes._subplots.AxesSubplot at 0x279d35331d0>"
      ]
     },
     "execution_count": 46,
     "metadata": {},
     "output_type": "execute_result"
    },
    {
     "data": {
      "image/png": "[encoded data removed]",
      "text/plain": [
       "<Figure size 432x288 with 1 Axes>"
      ]
     },
     "metadata": {
      "needs_background": "light"
     },
     "output_type": "display_data"
    }
   ],
   "source": [
    "#Plotting PC1 and PC2 on with Clusters\n",
    "sns.scatterplot(x='PC1',y='PC2',hue='ClusterID',legend='full',data=Country_data_pca_df)"
   ]
  },
  {
   "cell_type": "code",
   "execution_count": 47,
   "metadata": {},
   "outputs": [
    {
     "data": {
      "text/plain": [
       "<matplotlib.axes._subplots.AxesSubplot at 0x279d3b486d8>"
      ]
     },
     "execution_count": 47,
     "metadata": {},
     "output_type": "execute_result"
    },
    {
     "data": {
      "image/png": "[encoded data removed]",
      "text/plain": [
       "<Figure size 432x288 with 1 Axes>"
      ]
     },
     "metadata": {
      "needs_background": "light"
     },
     "output_type": "display_data"
    }
   ],
   "source": [
    "##Plotting PC2 and PC3 on with Clusters\n",
    "sns.scatterplot(x='PC2',y='PC3',hue='ClusterID',legend='full',data=Country_data_pca_df)"
   ]
  },
  {
   "cell_type": "code",
   "execution_count": 48,
   "metadata": {},
   "outputs": [
    {
     "data": {
      "text/plain": [
       "<matplotlib.axes._subplots.AxesSubplot at 0x279d3bbd908>"
      ]
     },
     "execution_count": 48,
     "metadata": {},
     "output_type": "execute_result"
    },
    {
     "data": {
      "image/png": "[encoded data removed]",
      "text/plain": [
       "<Figure size 432x288 with 1 Axes>"
      ]
     },
     "metadata": {
      "needs_background": "light"
     },
     "output_type": "display_data"
    }
   ],
   "source": [
    "#Plotting PC1 and PC3 on with Clusters\n",
    "sns.scatterplot(x='PC1',y='PC3',hue='ClusterID',legend='full',data=Country_data_pca_df)"
   ]
  },
  {
   "cell_type": "markdown",
   "metadata": {},
   "source": [
    "Analysis of the clusters"
   ]
  },
  {
   "cell_type": "code",
   "execution_count": 49,
   "metadata": {},
   "outputs": [
    {
     "data": {
      "text/html": [
       "<div>\n",
       "<style scoped>\n",
       "    .dataframe tbody tr th:only-of-type {\n",
       "        vertical-align: middle;\n",
       "    }\n",
       "\n",
       "    .dataframe tbody tr th {\n",
       "        vertical-align: top;\n",
       "    }\n",
       "\n",
       "    .dataframe thead th {\n",
       "        text-align: right;\n",
       "    }\n",
       "</style>\n",
       "<table border=\"1\" class=\"dataframe\">\n",
       "  <thead>\n",
       "    <tr style=\"text-align: right;\">\n",
       "      <th></th>\n",
       "      <th>ClusterID</th>\n",
       "      <th>child_mort</th>\n",
       "      <th>exports</th>\n",
       "      <th>health</th>\n",
       "      <th>imports</th>\n",
       "      <th>income</th>\n",
       "      <th>inflation</th>\n",
       "      <th>life_expec</th>\n",
       "      <th>total_fer</th>\n",
       "      <th>gdpp</th>\n",
       "    </tr>\n",
       "  </thead>\n",
       "  <tbody>\n",
       "    <tr>\n",
       "      <th>0</th>\n",
       "      <td>0</td>\n",
       "      <td>63.652</td>\n",
       "      <td>861.024</td>\n",
       "      <td>128.779</td>\n",
       "      <td>858.978</td>\n",
       "      <td>4,450.000</td>\n",
       "      <td>9.736</td>\n",
       "      <td>63.329</td>\n",
       "      <td>4.112</td>\n",
       "      <td>2,072.161</td>\n",
       "    </tr>\n",
       "    <tr>\n",
       "      <th>1</th>\n",
       "      <td>1</td>\n",
       "      <td>5.322</td>\n",
       "      <td>14,504.026</td>\n",
       "      <td>3,249.134</td>\n",
       "      <td>13,650.456</td>\n",
       "      <td>37,170.370</td>\n",
       "      <td>2.205</td>\n",
       "      <td>79.778</td>\n",
       "      <td>1.749</td>\n",
       "      <td>34,696.296</td>\n",
       "    </tr>\n",
       "    <tr>\n",
       "      <th>2</th>\n",
       "      <td>2</td>\n",
       "      <td>20.221</td>\n",
       "      <td>3,071.620</td>\n",
       "      <td>406.979</td>\n",
       "      <td>3,160.475</td>\n",
       "      <td>12,796.557</td>\n",
       "      <td>6.628</td>\n",
       "      <td>73.208</td>\n",
       "      <td>2.272</td>\n",
       "      <td>6,636.361</td>\n",
       "    </tr>\n",
       "  </tbody>\n",
       "</table>\n",
       "</div>"
      ],
      "text/plain": [
       "   ClusterID  child_mort    exports    health    imports     income  \\\n",
       "0          0      63.652    861.024   128.779    858.978  4,450.000   \n",
       "1          1       5.322 14,504.026 3,249.134 13,650.456 37,170.370   \n",
       "2          2      20.221  3,071.620   406.979  3,160.475 12,796.557   \n",
       "\n",
       "   inflation  life_expec  total_fer       gdpp  \n",
       "0      9.736      63.329      4.112  2,072.161  \n",
       "1      2.205      79.778      1.749 34,696.296  \n",
       "2      6.628      73.208      2.272  6,636.361  "
      ]
     },
     "execution_count": 49,
     "metadata": {},
     "output_type": "execute_result"
    }
   ],
   "source": [
    "# Checking the mean values for all the measures by cluster\n",
    "\n",
    "Country_data_mean = Country_data1.groupby('ClusterID').agg('mean').reset_index()\n",
    "Country_data_mean"
   ]
  },
  {
   "cell_type": "code",
   "execution_count": 50,
   "metadata": {},
   "outputs": [
    {
     "data": {
      "image/png": "[encoded data removed]",
      "text/plain": [
       "<Figure size 1440x720 with 9 Axes>"
      ]
     },
     "metadata": {
      "needs_background": "light"
     },
     "output_type": "display_data"
    }
   ],
   "source": [
    "# Bar plot to see the mean values of the measures by cluster.\n",
    "\n",
    "\n",
    "columns = list(Country_data_mean)\n",
    "columns.remove('ClusterID')\n",
    "\n",
    "plt.figure(figsize=(20,10))\n",
    "i=1\n",
    "for col in columns:\n",
    "    plt.subplot(3,3,i)\n",
    "    sns.barplot(y=col,x='ClusterID',data=Country_data_mean)\n",
    "    i=i+1"
   ]
  },
  {
   "cell_type": "code",
   "execution_count": 51,
   "metadata": {},
   "outputs": [
    {
     "data": {
      "image/png": "[encoded data removed]",
      "text/plain": [
       "<Figure size 720x432 with 1 Axes>"
      ]
     },
     "metadata": {
      "needs_background": "light"
     },
     "output_type": "display_data"
    }
   ],
   "source": [
    "%matplotlib inline\n",
    "fig = plt.figure(figsize = (10,6))\n",
    "sns.scatterplot(y='gdpp',x='child_mort',data=Country_data1,hue='ClusterID',legend='full',palette=\"Set1\")\n",
    "plt.xlabel('Child_Mort')\n",
    "plt.ylabel('gdpp')\n",
    "plt.title('Child_Mort vs gdpp',fontsize=20)\n",
    "plt.tight_layout()\n",
    "plt.show()"
   ]
  },
  {
   "cell_type": "code",
   "execution_count": 66,
   "metadata": {},
   "outputs": [
    {
     "data": {
      "text/html": [
       "<div>\n",
       "<style scoped>\n",
       "    .dataframe tbody tr th:only-of-type {\n",
       "        vertical-align: middle;\n",
       "    }\n",
       "\n",
       "    .dataframe tbody tr th {\n",
       "        vertical-align: top;\n",
       "    }\n",
       "\n",
       "    .dataframe thead th {\n",
       "        text-align: right;\n",
       "    }\n",
       "</style>\n",
       "<table border=\"1\" class=\"dataframe\">\n",
       "  <thead>\n",
       "    <tr style=\"text-align: right;\">\n",
       "      <th></th>\n",
       "      <th>country</th>\n",
       "      <th>ClusterID</th>\n",
       "      <th>child_mort</th>\n",
       "      <th>exports</th>\n",
       "      <th>health</th>\n",
       "      <th>imports</th>\n",
       "      <th>income</th>\n",
       "      <th>inflation</th>\n",
       "      <th>life_expec</th>\n",
       "      <th>total_fer</th>\n",
       "      <th>gdpp</th>\n",
       "    </tr>\n",
       "  </thead>\n",
       "  <tbody>\n",
       "    <tr>\n",
       "      <th>71</th>\n",
       "      <td>Mauritania</td>\n",
       "      <td>0</td>\n",
       "      <td>97.400</td>\n",
       "      <td>608.400</td>\n",
       "      <td>52.920</td>\n",
       "      <td>734.400</td>\n",
       "      <td>3320</td>\n",
       "      <td>18.900</td>\n",
       "      <td>68.200</td>\n",
       "      <td>4.980</td>\n",
       "      <td>1200</td>\n",
       "    </tr>\n",
       "    <tr>\n",
       "      <th>81</th>\n",
       "      <td>Pakistan</td>\n",
       "      <td>0</td>\n",
       "      <td>92.100</td>\n",
       "      <td>140.400</td>\n",
       "      <td>22.880</td>\n",
       "      <td>201.760</td>\n",
       "      <td>4280</td>\n",
       "      <td>10.900</td>\n",
       "      <td>65.300</td>\n",
       "      <td>3.850</td>\n",
       "      <td>1040</td>\n",
       "    </tr>\n",
       "    <tr>\n",
       "      <th>0</th>\n",
       "      <td>Afghanistan</td>\n",
       "      <td>0</td>\n",
       "      <td>90.200</td>\n",
       "      <td>55.300</td>\n",
       "      <td>41.917</td>\n",
       "      <td>248.297</td>\n",
       "      <td>1610</td>\n",
       "      <td>9.440</td>\n",
       "      <td>56.200</td>\n",
       "      <td>5.820</td>\n",
       "      <td>553</td>\n",
       "    </tr>\n",
       "    <tr>\n",
       "      <th>64</th>\n",
       "      <td>Liberia</td>\n",
       "      <td>0</td>\n",
       "      <td>89.300</td>\n",
       "      <td>62.457</td>\n",
       "      <td>38.586</td>\n",
       "      <td>302.802</td>\n",
       "      <td>700</td>\n",
       "      <td>5.470</td>\n",
       "      <td>60.800</td>\n",
       "      <td>5.020</td>\n",
       "      <td>327</td>\n",
       "    </tr>\n",
       "    <tr>\n",
       "      <th>24</th>\n",
       "      <td>Comoros</td>\n",
       "      <td>0</td>\n",
       "      <td>88.200</td>\n",
       "      <td>126.885</td>\n",
       "      <td>34.682</td>\n",
       "      <td>397.573</td>\n",
       "      <td>1410</td>\n",
       "      <td>3.870</td>\n",
       "      <td>65.900</td>\n",
       "      <td>4.750</td>\n",
       "      <td>769</td>\n",
       "    </tr>\n",
       "  </tbody>\n",
       "</table>\n",
       "</div>"
      ],
      "text/plain": [
       "        country  ClusterID  child_mort  exports  health  imports  income  \\\n",
       "71   Mauritania          0      97.400  608.400  52.920  734.400    3320   \n",
       "81     Pakistan          0      92.100  140.400  22.880  201.760    4280   \n",
       "0   Afghanistan          0      90.200   55.300  41.917  248.297    1610   \n",
       "64      Liberia          0      89.300   62.457  38.586  302.802     700   \n",
       "24      Comoros          0      88.200  126.885  34.682  397.573    1410   \n",
       "\n",
       "    inflation  life_expec  total_fer  gdpp  \n",
       "71     18.900      68.200      4.980  1200  \n",
       "81     10.900      65.300      3.850  1040  \n",
       "0       9.440      56.200      5.820   553  \n",
       "64      5.470      60.800      5.020   327  \n",
       "24      3.870      65.900      4.750   769  "
      ]
     },
     "execution_count": 66,
     "metadata": {},
     "output_type": "execute_result"
    }
   ],
   "source": [
    "# Finding the 5 countries with high Child mort and less gdpp\n",
    "\n",
    "Country_data1[Country_data1['ClusterID']==0].sort_values(['child_mort','gdpp'],ascending=[False, True]).head(5)"
   ]
  },
  {
   "cell_type": "code",
   "execution_count": 53,
   "metadata": {},
   "outputs": [
    {
     "data": {
      "image/png": "[encoded data removed]",
      "text/plain": [
       "<Figure size 720x432 with 1 Axes>"
      ]
     },
     "metadata": {
      "needs_background": "light"
     },
     "output_type": "display_data"
    }
   ],
   "source": [
    "%matplotlib inline\n",
    "fig = plt.figure(figsize = (10,6))\n",
    "sns.scatterplot(y='child_mort',x='inflation',data=Country_data1,hue='ClusterID',legend='full',palette=\"Set2\")\n",
    "plt.xlabel('child_mort')\n",
    "plt.ylabel('inflation')\n",
    "plt.title('Child_Mort vs inflation',fontsize=20)\n",
    "plt.tight_layout()\n",
    "plt.show()"
   ]
  },
  {
   "cell_type": "code",
   "execution_count": 54,
   "metadata": {},
   "outputs": [
    {
     "data": {
      "image/png": "[encoded data removed]",
      "text/plain": [
       "<Figure size 720x432 with 1 Axes>"
      ]
     },
     "metadata": {
      "needs_background": "light"
     },
     "output_type": "display_data"
    }
   ],
   "source": [
    "%matplotlib inline\n",
    "fig = plt.figure(figsize = (10,6))\n",
    "sns.scatterplot(y='income',x='gdpp',data=Country_data1,hue='ClusterID',legend='full',palette=\"Set3\")\n",
    "plt.xlabel('gdpp')\n",
    "plt.ylabel('income')\n",
    "plt.title('gdpp vs income',fontsize=20)\n",
    "plt.tight_layout()\n",
    "plt.show()"
   ]
  },
  {
   "cell_type": "code",
   "execution_count": 55,
   "metadata": {},
   "outputs": [
    {
     "data": {
      "image/png": "[encoded data removed]",
      "text/plain": [
       "<Figure size 720x432 with 1 Axes>"
      ]
     },
     "metadata": {
      "needs_background": "light"
     },
     "output_type": "display_data"
    }
   ],
   "source": [
    "%matplotlib inline\n",
    "fig = plt.figure(figsize = (10,6))\n",
    "sns.scatterplot(x='income',y='health',data=Country_data1,hue='ClusterID',legend='full',palette=\"Set1\")\n",
    "plt.xlabel('income')\n",
    "plt.ylabel('health')\n",
    "plt.title('income vs health',fontsize=20)\n",
    "plt.tight_layout()\n",
    "plt.show()"
   ]
  },
  {
   "cell_type": "markdown",
   "metadata": {},
   "source": [
    "Hierarchical clustering"
   ]
  },
  {
   "cell_type": "code",
   "execution_count": 56,
   "metadata": {},
   "outputs": [
    {
     "data": {
      "image/png": "[encoded data removed]",
      "text/plain": [
       "<Figure size 1440x720 with 1 Axes>"
      ]
     },
     "metadata": {
      "needs_background": "light"
     },
     "output_type": "display_data"
    }
   ],
   "source": [
    "\n",
    "# Dendrogram for principal components\n",
    "from matplotlib import pyplot as plt\n",
    "from scipy.cluster.hierarchy import dendrogram, linkage\n",
    "plt.figure(figsize=(20,10))\n",
    "mergings = linkage(df_pca, method = \"complete\", metric='euclidean')\n",
    "dendrogram(mergings)\n",
    "\n",
    "plt.show()"
   ]
  },
  {
   "cell_type": "code",
   "execution_count": 57,
   "metadata": {},
   "outputs": [
    {
     "data": {
      "text/html": [
       "<div>\n",
       "<style scoped>\n",
       "    .dataframe tbody tr th:only-of-type {\n",
       "        vertical-align: middle;\n",
       "    }\n",
       "\n",
       "    .dataframe tbody tr th {\n",
       "        vertical-align: top;\n",
       "    }\n",
       "\n",
       "    .dataframe thead th {\n",
       "        text-align: right;\n",
       "    }\n",
       "</style>\n",
       "<table border=\"1\" class=\"dataframe\">\n",
       "  <thead>\n",
       "    <tr style=\"text-align: right;\">\n",
       "      <th></th>\n",
       "      <th>index</th>\n",
       "      <th>country</th>\n",
       "      <th>PC1</th>\n",
       "      <th>PC2</th>\n",
       "      <th>PC3</th>\n",
       "      <th>ClusterID</th>\n",
       "    </tr>\n",
       "  </thead>\n",
       "  <tbody>\n",
       "    <tr>\n",
       "      <th>0</th>\n",
       "      <td>0</td>\n",
       "      <td>Afghanistan</td>\n",
       "      <td>-2.637</td>\n",
       "      <td>1.469</td>\n",
       "      <td>-0.541</td>\n",
       "      <td>0</td>\n",
       "    </tr>\n",
       "    <tr>\n",
       "      <th>1</th>\n",
       "      <td>2</td>\n",
       "      <td>Algeria</td>\n",
       "      <td>-0.458</td>\n",
       "      <td>-0.673</td>\n",
       "      <td>0.962</td>\n",
       "      <td>1</td>\n",
       "    </tr>\n",
       "    <tr>\n",
       "      <th>2</th>\n",
       "      <td>4</td>\n",
       "      <td>Antigua and Barbuda</td>\n",
       "      <td>0.650</td>\n",
       "      <td>-1.024</td>\n",
       "      <td>-0.250</td>\n",
       "      <td>2</td>\n",
       "    </tr>\n",
       "    <tr>\n",
       "      <th>3</th>\n",
       "      <td>6</td>\n",
       "      <td>Armenia</td>\n",
       "      <td>-0.333</td>\n",
       "      <td>-1.275</td>\n",
       "      <td>0.177</td>\n",
       "      <td>1</td>\n",
       "    </tr>\n",
       "    <tr>\n",
       "      <th>4</th>\n",
       "      <td>7</td>\n",
       "      <td>Australia</td>\n",
       "      <td>3.180</td>\n",
       "      <td>-0.251</td>\n",
       "      <td>-0.117</td>\n",
       "      <td>3</td>\n",
       "    </tr>\n",
       "  </tbody>\n",
       "</table>\n",
       "</div>"
      ],
      "text/plain": [
       "   index              country    PC1    PC2    PC3  ClusterID\n",
       "0      0          Afghanistan -2.637  1.469 -0.541          0\n",
       "1      2              Algeria -0.458 -0.673  0.962          1\n",
       "2      4  Antigua and Barbuda  0.650 -1.024 -0.250          2\n",
       "3      6              Armenia -0.333 -1.275  0.177          1\n",
       "4      7            Australia  3.180 -0.251 -0.117          3"
      ]
     },
     "execution_count": 57,
     "metadata": {},
     "output_type": "execute_result"
    }
   ],
   "source": [
    "# Considering 6 clusters\n",
    "from scipy.cluster.hierarchy import cut_tree\n",
    "clusterCut = pd.Series(cut_tree(mergings, n_clusters = 6).reshape(-1,))\n",
    "Country_pca_herc = pd.concat([df_pca_df1, clusterCut], axis=1)\n",
    "Country_pca_herc=Country_pca_herc.rename({0:'ClusterID'},axis=1)\n",
    "Country_pca_herc.head()"
   ]
  },
  {
   "cell_type": "code",
   "execution_count": 58,
   "metadata": {},
   "outputs": [
    {
     "data": {
      "text/plain": [
       "1    51\n",
       "2    20\n",
       "0    16\n",
       "3    15\n",
       "4    10\n",
       "5     7\n",
       "Name: ClusterID, dtype: int64"
      ]
     },
     "execution_count": 58,
     "metadata": {},
     "output_type": "execute_result"
    }
   ],
   "source": [
    "# Count of countries by cluster\n",
    "Country_pca_herc['ClusterID'].value_counts()"
   ]
  },
  {
   "cell_type": "code",
   "execution_count": 59,
   "metadata": {},
   "outputs": [
    {
     "data": {
      "text/html": [
       "<div>\n",
       "<style scoped>\n",
       "    .dataframe tbody tr th:only-of-type {\n",
       "        vertical-align: middle;\n",
       "    }\n",
       "\n",
       "    .dataframe tbody tr th {\n",
       "        vertical-align: top;\n",
       "    }\n",
       "\n",
       "    .dataframe thead th {\n",
       "        text-align: right;\n",
       "    }\n",
       "</style>\n",
       "<table border=\"1\" class=\"dataframe\">\n",
       "  <thead>\n",
       "    <tr style=\"text-align: right;\">\n",
       "      <th></th>\n",
       "      <th>country</th>\n",
       "      <th>ClusterID</th>\n",
       "      <th>child_mort</th>\n",
       "      <th>exports</th>\n",
       "      <th>health</th>\n",
       "      <th>imports</th>\n",
       "      <th>income</th>\n",
       "      <th>inflation</th>\n",
       "      <th>life_expec</th>\n",
       "      <th>total_fer</th>\n",
       "      <th>gdpp</th>\n",
       "    </tr>\n",
       "  </thead>\n",
       "  <tbody>\n",
       "    <tr>\n",
       "      <th>0</th>\n",
       "      <td>Afghanistan</td>\n",
       "      <td>0</td>\n",
       "      <td>90.200</td>\n",
       "      <td>55.300</td>\n",
       "      <td>41.917</td>\n",
       "      <td>248.297</td>\n",
       "      <td>1610</td>\n",
       "      <td>9.440</td>\n",
       "      <td>56.200</td>\n",
       "      <td>5.820</td>\n",
       "      <td>553</td>\n",
       "    </tr>\n",
       "    <tr>\n",
       "      <th>1</th>\n",
       "      <td>Algeria</td>\n",
       "      <td>1</td>\n",
       "      <td>27.300</td>\n",
       "      <td>1,712.640</td>\n",
       "      <td>185.982</td>\n",
       "      <td>1,400.440</td>\n",
       "      <td>12900</td>\n",
       "      <td>16.100</td>\n",
       "      <td>76.500</td>\n",
       "      <td>2.890</td>\n",
       "      <td>4460</td>\n",
       "    </tr>\n",
       "    <tr>\n",
       "      <th>2</th>\n",
       "      <td>Antigua and Barbuda</td>\n",
       "      <td>2</td>\n",
       "      <td>10.300</td>\n",
       "      <td>5,551.000</td>\n",
       "      <td>735.660</td>\n",
       "      <td>7,185.800</td>\n",
       "      <td>19100</td>\n",
       "      <td>1.440</td>\n",
       "      <td>76.800</td>\n",
       "      <td>2.130</td>\n",
       "      <td>12200</td>\n",
       "    </tr>\n",
       "    <tr>\n",
       "      <th>3</th>\n",
       "      <td>Armenia</td>\n",
       "      <td>1</td>\n",
       "      <td>18.100</td>\n",
       "      <td>669.760</td>\n",
       "      <td>141.680</td>\n",
       "      <td>1,458.660</td>\n",
       "      <td>6700</td>\n",
       "      <td>7.770</td>\n",
       "      <td>73.300</td>\n",
       "      <td>1.690</td>\n",
       "      <td>3220</td>\n",
       "    </tr>\n",
       "    <tr>\n",
       "      <th>4</th>\n",
       "      <td>Australia</td>\n",
       "      <td>3</td>\n",
       "      <td>4.800</td>\n",
       "      <td>10,276.200</td>\n",
       "      <td>4,530.870</td>\n",
       "      <td>10,847.100</td>\n",
       "      <td>41400</td>\n",
       "      <td>1.160</td>\n",
       "      <td>82.000</td>\n",
       "      <td>1.930</td>\n",
       "      <td>51900</td>\n",
       "    </tr>\n",
       "  </tbody>\n",
       "</table>\n",
       "</div>"
      ],
      "text/plain": [
       "               country  ClusterID  child_mort    exports    health    imports  \\\n",
       "0          Afghanistan          0      90.200     55.300    41.917    248.297   \n",
       "1              Algeria          1      27.300  1,712.640   185.982  1,400.440   \n",
       "2  Antigua and Barbuda          2      10.300  5,551.000   735.660  7,185.800   \n",
       "3              Armenia          1      18.100    669.760   141.680  1,458.660   \n",
       "4            Australia          3       4.800 10,276.200 4,530.870 10,847.100   \n",
       "\n",
       "   income  inflation  life_expec  total_fer   gdpp  \n",
       "0    1610      9.440      56.200      5.820    553  \n",
       "1   12900     16.100      76.500      2.890   4460  \n",
       "2   19100      1.440      76.800      2.130  12200  \n",
       "3    6700      7.770      73.300      1.690   3220  \n",
       "4   41400      1.160      82.000      1.930  51900  "
      ]
     },
     "execution_count": 59,
     "metadata": {},
     "output_type": "execute_result"
    }
   ],
   "source": [
    "#Assigning cluster to main data frame\n",
    "\n",
    "Country_data_herc = pd.merge(Country_pca_herc,country_data,how='inner',on='country')\n",
    "Country_data_herc=Country_data_herc.drop(columns=['PC1','PC2','PC3','index'])\n",
    "Country_data_herc.head()"
   ]
  },
  {
   "cell_type": "code",
   "execution_count": 60,
   "metadata": {},
   "outputs": [
    {
     "data": {
      "text/html": [
       "<div>\n",
       "<style scoped>\n",
       "    .dataframe tbody tr th:only-of-type {\n",
       "        vertical-align: middle;\n",
       "    }\n",
       "\n",
       "    .dataframe tbody tr th {\n",
       "        vertical-align: top;\n",
       "    }\n",
       "\n",
       "    .dataframe thead th {\n",
       "        text-align: right;\n",
       "    }\n",
       "</style>\n",
       "<table border=\"1\" class=\"dataframe\">\n",
       "  <thead>\n",
       "    <tr style=\"text-align: right;\">\n",
       "      <th></th>\n",
       "      <th>ClusterID</th>\n",
       "      <th>child_mort</th>\n",
       "      <th>exports</th>\n",
       "      <th>health</th>\n",
       "      <th>imports</th>\n",
       "      <th>income</th>\n",
       "      <th>inflation</th>\n",
       "      <th>life_expec</th>\n",
       "      <th>total_fer</th>\n",
       "      <th>gdpp</th>\n",
       "    </tr>\n",
       "  </thead>\n",
       "  <tbody>\n",
       "    <tr>\n",
       "      <th>0</th>\n",
       "      <td>0</td>\n",
       "      <td>69.088</td>\n",
       "      <td>594.807</td>\n",
       "      <td>130.644</td>\n",
       "      <td>785.042</td>\n",
       "      <td>3,715.625</td>\n",
       "      <td>7.110</td>\n",
       "      <td>60.950</td>\n",
       "      <td>4.455</td>\n",
       "      <td>1,763.938</td>\n",
       "    </tr>\n",
       "    <tr>\n",
       "      <th>1</th>\n",
       "      <td>1</td>\n",
       "      <td>28.202</td>\n",
       "      <td>1,596.766</td>\n",
       "      <td>244.705</td>\n",
       "      <td>1,837.445</td>\n",
       "      <td>8,350.392</td>\n",
       "      <td>6.813</td>\n",
       "      <td>71.576</td>\n",
       "      <td>2.538</td>\n",
       "      <td>4,017.882</td>\n",
       "    </tr>\n",
       "    <tr>\n",
       "      <th>2</th>\n",
       "      <td>2</td>\n",
       "      <td>6.615</td>\n",
       "      <td>9,304.775</td>\n",
       "      <td>1,625.982</td>\n",
       "      <td>9,804.000</td>\n",
       "      <td>25,040.000</td>\n",
       "      <td>0.775</td>\n",
       "      <td>77.350</td>\n",
       "      <td>1.666</td>\n",
       "      <td>20,060.000</td>\n",
       "    </tr>\n",
       "    <tr>\n",
       "      <th>3</th>\n",
       "      <td>3</td>\n",
       "      <td>5.173</td>\n",
       "      <td>17,256.080</td>\n",
       "      <td>4,132.270</td>\n",
       "      <td>15,558.527</td>\n",
       "      <td>42,853.333</td>\n",
       "      <td>2.817</td>\n",
       "      <td>80.487</td>\n",
       "      <td>1.774</td>\n",
       "      <td>42,066.667</td>\n",
       "    </tr>\n",
       "    <tr>\n",
       "      <th>4</th>\n",
       "      <td>4</td>\n",
       "      <td>12.720</td>\n",
       "      <td>5,894.767</td>\n",
       "      <td>643.572</td>\n",
       "      <td>4,552.337</td>\n",
       "      <td>24,570.000</td>\n",
       "      <td>11.409</td>\n",
       "      <td>74.830</td>\n",
       "      <td>2.027</td>\n",
       "      <td>11,923.000</td>\n",
       "    </tr>\n",
       "    <tr>\n",
       "      <th>5</th>\n",
       "      <td>5</td>\n",
       "      <td>67.086</td>\n",
       "      <td>1,547.557</td>\n",
       "      <td>147.829</td>\n",
       "      <td>961.131</td>\n",
       "      <td>6,788.571</td>\n",
       "      <td>18.943</td>\n",
       "      <td>64.957</td>\n",
       "      <td>4.627</td>\n",
       "      <td>3,041.429</td>\n",
       "    </tr>\n",
       "  </tbody>\n",
       "</table>\n",
       "</div>"
      ],
      "text/plain": [
       "   ClusterID  child_mort    exports    health    imports     income  \\\n",
       "0          0      69.088    594.807   130.644    785.042  3,715.625   \n",
       "1          1      28.202  1,596.766   244.705  1,837.445  8,350.392   \n",
       "2          2       6.615  9,304.775 1,625.982  9,804.000 25,040.000   \n",
       "3          3       5.173 17,256.080 4,132.270 15,558.527 42,853.333   \n",
       "4          4      12.720  5,894.767   643.572  4,552.337 24,570.000   \n",
       "5          5      67.086  1,547.557   147.829    961.131  6,788.571   \n",
       "\n",
       "   inflation  life_expec  total_fer       gdpp  \n",
       "0      7.110      60.950      4.455  1,763.938  \n",
       "1      6.813      71.576      2.538  4,017.882  \n",
       "2      0.775      77.350      1.666 20,060.000  \n",
       "3      2.817      80.487      1.774 42,066.667  \n",
       "4     11.409      74.830      2.027 11,923.000  \n",
       "5     18.943      64.957      4.627  3,041.429  "
      ]
     },
     "execution_count": 60,
     "metadata": {},
     "output_type": "execute_result"
    }
   ],
   "source": [
    "# Mean values for all  clusters\n",
    "\n",
    "Country_herc_clustr = Country_data_herc.groupby('ClusterID').agg('mean').reset_index()\n",
    "Country_herc_clustr"
   ]
  },
  {
   "cell_type": "code",
   "execution_count": 61,
   "metadata": {},
   "outputs": [
    {
     "data": {
      "image/png": "[encoded data removed]",
      "text/plain": [
       "<Figure size 1440x720 with 9 Axes>"
      ]
     },
     "metadata": {
      "needs_background": "light"
     },
     "output_type": "display_data"
    }
   ],
   "source": [
    "# Barplot to see the mean values for Hierarchial clustering\n",
    "\n",
    "plt.figure(figsize=(20,10))\n",
    "i=1\n",
    "for col in columns:\n",
    "    plt.subplot(3,3,i)\n",
    "    sns.barplot(y=col,x='ClusterID',data=Country_herc_clustr)\n",
    "    i=i+1"
   ]
  },
  {
   "cell_type": "code",
   "execution_count": 62,
   "metadata": {},
   "outputs": [
    {
     "data": {
      "image/png": "[encoded data removed]",
      "text/plain": [
       "<Figure size 720x432 with 1 Axes>"
      ]
     },
     "metadata": {
      "needs_background": "light"
     },
     "output_type": "display_data"
    }
   ],
   "source": [
    "%matplotlib inline\n",
    "fig = plt.figure(figsize = (10,6))\n",
    "sns.scatterplot(x='child_mort',y='gdpp',data=Country_data_herc, hue='ClusterID',legend='full',palette=\"Set1\")\n",
    "plt.xlabel('child_mort')\n",
    "plt.ylabel('gdpp')\n",
    "plt.title('child_mort vs gdpp',fontsize=20)\n",
    "plt.tight_layout()\n",
    "plt.show()"
   ]
  },
  {
   "cell_type": "code",
   "execution_count": 63,
   "metadata": {},
   "outputs": [
    {
     "data": {
      "text/html": [
       "<div>\n",
       "<style scoped>\n",
       "    .dataframe tbody tr th:only-of-type {\n",
       "        vertical-align: middle;\n",
       "    }\n",
       "\n",
       "    .dataframe tbody tr th {\n",
       "        vertical-align: top;\n",
       "    }\n",
       "\n",
       "    .dataframe thead th {\n",
       "        text-align: right;\n",
       "    }\n",
       "</style>\n",
       "<table border=\"1\" class=\"dataframe\">\n",
       "  <thead>\n",
       "    <tr style=\"text-align: right;\">\n",
       "      <th></th>\n",
       "      <th>country</th>\n",
       "      <th>ClusterID</th>\n",
       "      <th>child_mort</th>\n",
       "      <th>exports</th>\n",
       "      <th>health</th>\n",
       "      <th>imports</th>\n",
       "      <th>income</th>\n",
       "      <th>inflation</th>\n",
       "      <th>life_expec</th>\n",
       "      <th>total_fer</th>\n",
       "      <th>gdpp</th>\n",
       "    </tr>\n",
       "  </thead>\n",
       "  <tbody>\n",
       "    <tr>\n",
       "      <th>81</th>\n",
       "      <td>Pakistan</td>\n",
       "      <td>0</td>\n",
       "      <td>92.100</td>\n",
       "      <td>140.400</td>\n",
       "      <td>22.880</td>\n",
       "      <td>201.760</td>\n",
       "      <td>4280</td>\n",
       "      <td>10.900</td>\n",
       "      <td>65.300</td>\n",
       "      <td>3.850</td>\n",
       "      <td>1040</td>\n",
       "    </tr>\n",
       "    <tr>\n",
       "      <th>0</th>\n",
       "      <td>Afghanistan</td>\n",
       "      <td>0</td>\n",
       "      <td>90.200</td>\n",
       "      <td>55.300</td>\n",
       "      <td>41.917</td>\n",
       "      <td>248.297</td>\n",
       "      <td>1610</td>\n",
       "      <td>9.440</td>\n",
       "      <td>56.200</td>\n",
       "      <td>5.820</td>\n",
       "      <td>553</td>\n",
       "    </tr>\n",
       "    <tr>\n",
       "      <th>64</th>\n",
       "      <td>Liberia</td>\n",
       "      <td>0</td>\n",
       "      <td>89.300</td>\n",
       "      <td>62.457</td>\n",
       "      <td>38.586</td>\n",
       "      <td>302.802</td>\n",
       "      <td>700</td>\n",
       "      <td>5.470</td>\n",
       "      <td>60.800</td>\n",
       "      <td>5.020</td>\n",
       "      <td>327</td>\n",
       "    </tr>\n",
       "    <tr>\n",
       "      <th>24</th>\n",
       "      <td>Comoros</td>\n",
       "      <td>0</td>\n",
       "      <td>88.200</td>\n",
       "      <td>126.885</td>\n",
       "      <td>34.682</td>\n",
       "      <td>397.573</td>\n",
       "      <td>1410</td>\n",
       "      <td>3.870</td>\n",
       "      <td>65.900</td>\n",
       "      <td>4.750</td>\n",
       "      <td>769</td>\n",
       "    </tr>\n",
       "    <tr>\n",
       "      <th>109</th>\n",
       "      <td>Uganda</td>\n",
       "      <td>0</td>\n",
       "      <td>81.000</td>\n",
       "      <td>101.745</td>\n",
       "      <td>53.609</td>\n",
       "      <td>170.170</td>\n",
       "      <td>1540</td>\n",
       "      <td>10.600</td>\n",
       "      <td>56.800</td>\n",
       "      <td>6.150</td>\n",
       "      <td>595</td>\n",
       "    </tr>\n",
       "  </tbody>\n",
       "</table>\n",
       "</div>"
      ],
      "text/plain": [
       "         country  ClusterID  child_mort  exports  health  imports  income  \\\n",
       "81      Pakistan          0      92.100  140.400  22.880  201.760    4280   \n",
       "0    Afghanistan          0      90.200   55.300  41.917  248.297    1610   \n",
       "64       Liberia          0      89.300   62.457  38.586  302.802     700   \n",
       "24       Comoros          0      88.200  126.885  34.682  397.573    1410   \n",
       "109       Uganda          0      81.000  101.745  53.609  170.170    1540   \n",
       "\n",
       "     inflation  life_expec  total_fer  gdpp  \n",
       "81      10.900      65.300      3.850  1040  \n",
       "0        9.440      56.200      5.820   553  \n",
       "64       5.470      60.800      5.020   327  \n",
       "24       3.870      65.900      4.750   769  \n",
       "109     10.600      56.800      6.150   595  "
      ]
     },
     "execution_count": 63,
     "metadata": {},
     "output_type": "execute_result"
    }
   ],
   "source": [
    "# Finding the 5 countries with high Child mort and less gdpp\n",
    "Country_data1[Country_data_herc['ClusterID']==0].sort_values(['child_mort','gdpp'],ascending=[False, True]).head(5)"
   ]
  },
  {
   "cell_type": "code",
   "execution_count": 64,
   "metadata": {},
   "outputs": [
    {
     "data": {
      "image/png": "[encoded data removed]",
      "text/plain": [
       "<Figure size 720x432 with 1 Axes>"
      ]
     },
     "metadata": {
      "needs_background": "light"
     },
     "output_type": "display_data"
    }
   ],
   "source": [
    "%matplotlib inline\n",
    "fig = plt.figure(figsize = (10,6))\n",
    "sns.scatterplot(x='gdpp',y='income',data=Country_data_herc,hue='ClusterID',legend='full',palette=\"Set2\")\n",
    "plt.xlabel('gdpp')\n",
    "plt.ylabel('income')\n",
    "plt.title('gdpp vs income',fontsize=20)\n",
    "plt.tight_layout()\n",
    "plt.show()"
   ]
  },
  {
   "cell_type": "code",
   "execution_count": 65,
   "metadata": {},
   "outputs": [
    {
     "data": {
      "image/png": "[encoded data removed]",
      "text/plain": [
       "<Figure size 720x432 with 1 Axes>"
      ]
     },
     "metadata": {
      "needs_background": "light"
     },
     "output_type": "display_data"
    }
   ],
   "source": [
    "%matplotlib inline\n",
    "fig = plt.figure(figsize = (10,6))\n",
    "sns.scatterplot(x='health',y='income',data=Country_data_herc,hue='ClusterID',legend='full',palette=\"Set3\")\n",
    "plt.xlabel('health')\n",
    "plt.ylabel('income')\n",
    "plt.title('health vs income',fontsize=20)\n",
    "plt.tight_layout()\n",
    "plt.show()"
   ]
  }
 ],
 "metadata": {
  "kernelspec": {
   "display_name": "Python 3",
   "language": "python",
   "name": "python3"
  },
  "language_info": {
   "codemirror_mode": {
    "name": "ipython",
    "version": 3
   },
   "file_extension": ".py",
   "mimetype": "text/x-python",
   "name": "python",
   "nbconvert_exporter": "python",
   "pygments_lexer": "ipython3",
   "version": "3.7.0"
  }
 },
 "nbformat": 4,
 "nbformat_minor": 2
}
